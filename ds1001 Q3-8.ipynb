{
 "cells": [
  {
   "cell_type": "code",
   "execution_count": 1,
   "metadata": {
    "collapsed": true,
    "pycharm": {
     "name": "#%%\n"
    }
   },
   "outputs": [],
   "source": [
    "from scipy import stats\n",
    "import numpy as np\n",
    "import pandas as pd\n",
    "df = pd.read_csv(\"movieReplicationSet.csv\")\n"
   ]
  },
  {
   "cell_type": "code",
   "execution_count": 2,
   "outputs": [
    {
     "name": "stdout",
     "output_type": "stream",
     "text": [
      "      The Lion King (1994)  \\\n",
      "0                      4.0   \n",
      "1                      NaN   \n",
      "2                      4.0   \n",
      "3                      3.0   \n",
      "4                      4.0   \n",
      "...                    ...   \n",
      "1092                   3.5   \n",
      "1093                   3.5   \n",
      "1094                   NaN   \n",
      "1095                   NaN   \n",
      "1096                   4.0   \n",
      "\n",
      "      Are you an only child? (1: Yes; 0: No; -1: Did not respond)  \n",
      "0                                                     0            \n",
      "1                                                     0            \n",
      "2                                                     1            \n",
      "3                                                     0            \n",
      "4                                                     1            \n",
      "...                                                 ...            \n",
      "1092                                                  0            \n",
      "1093                                                  0            \n",
      "1094                                                  0            \n",
      "1095                                                  0            \n",
      "1096                                                  0            \n",
      "\n",
      "[1097 rows x 2 columns]\n"
     ]
    }
   ],
   "source": [
    "movie = df[[\"The Lion King (1994)\", \"Are you an only child? (1: Yes; 0: No; -1: Did not respond)\"]]\n",
    "print(movie)\n",
    "movie = movie.to_numpy()"
   ],
   "metadata": {
    "collapsed": false,
    "pycharm": {
     "name": "#%%\n"
    }
   }
  },
  {
   "cell_type": "code",
   "execution_count": 2,
   "outputs": [
    {
     "name": "stdout",
     "output_type": "stream",
     "text": [
      "[[ 0.          0.         86.42857143 ...  0.          0.\n",
      "   0.        ]\n",
      " [ 0.          0.         20.45454545 ...  0.          0.\n",
      "   0.        ]\n",
      " [ 0.          0.          0.         ...  0.          0.\n",
      "   0.        ]\n",
      " ...\n",
      " [ 0.          0.          0.         ...  0.          0.\n",
      "   0.        ]\n",
      " [ 0.          0.          0.         ...  0.          0.\n",
      "   0.        ]\n",
      " [ 0.          0.         82.88288288 ...  0.          0.\n",
      "   0.        ]]\n"
     ]
    }
   ],
   "source": [
    "movie_array = df.iloc[:,:400].to_numpy()\n",
    "\n",
    "user = np.zeros((len(movie_array),len(movie_array[0])))\n",
    "temp = []\n",
    "for i in range(len(movie_array)):\n",
    "    temp = []\n",
    "    for num in movie_array[i]:\n",
    "        if num >= 0:\n",
    "            temp.append(num)\n",
    "    temp.sort()\n",
    "    for j in range(len(movie_array[i])):\n",
    "        if(movie_array[i][j] >= 0):\n",
    "            res = stats.percentileofscore(temp, movie_array[i][j])\n",
    "            user[i,j] = res\n",
    "print(user)"
   ],
   "metadata": {
    "collapsed": false,
    "pycharm": {
     "name": "#%%\n"
    }
   }
  },
  {
   "cell_type": "code",
   "execution_count": 15,
   "outputs": [
    {
     "name": "stdout",
     "output_type": "stream",
     "text": [
      "17\n"
     ]
    }
   ],
   "source": [
    "index = df.columns.get_loc(\"Psycho (1960)\")\n",
    "index = df.columns[[17,22,54,57,149,186,252]]\n",
    "print(index)\n",
    "#shrek = user[:,index]"
   ],
   "metadata": {
    "collapsed": false,
    "pycharm": {
     "name": "#%%\n"
    }
   }
  },
  {
   "cell_type": "code",
   "execution_count": 5,
   "outputs": [],
   "source": [
    "def gender_pairwise_test(s):\n",
    "    movie = df[[s, \"Gender identity (1 = female; 2 = male; 3 = self-described)\"]]\n",
    "    movie = movie.to_numpy()\n",
    "    list_1 = []\n",
    "    list_2 = []\n",
    "    for i in range(len(movie)):\n",
    "        if movie[i][0] >= 0:\n",
    "            if movie[i][1] == 1:\n",
    "                list_1.append(i)\n",
    "            elif movie[i][1] == 2:\n",
    "                list_2.append(i)\n",
    "\n",
    "    data_set_1 = movie[list_1,0]\n",
    "    data_set_2 = movie[list_2,0]\n",
    "    #res1 = stats.ttest_ind(data_set_1,data_set_2)\n",
    "    res2 = stats.mannwhitneyu(data_set_1,data_set_2)\n",
    "    return res2.pvalue"
   ],
   "metadata": {
    "collapsed": false,
    "pycharm": {
     "name": "#%%\n"
    }
   }
  },
  {
   "cell_type": "code",
   "execution_count": 19,
   "outputs": [],
   "source": [
    "movie_array = df.iloc[:,:400].to_numpy()\n",
    "\n",
    "import matplotlib.pyplot as plt\n",
    "\n",
    "def gender_pairwise_ranking_test(s):\n",
    "    index = df.columns.get_loc(s)\n",
    "    tmp = user[:,index]\n",
    "    movie = df[[s, \"Gender identity (1 = female; 2 = male; 3 = self-described)\"]]\n",
    "    movie = movie.to_numpy()\n",
    "    list_t = []\n",
    "    list_1 = []\n",
    "    list_2 = []\n",
    "    #using mean\n",
    "    for i in range(len(movie)):\n",
    "        if movie[i][0] >= 0:\n",
    "            list_t.append(i)\n",
    "            if movie[i][1] == 1:\n",
    "                list_1.append(i)\n",
    "            elif movie[i][1] == 2:\n",
    "                list_2.append(i)\n",
    "    #using median\n",
    "\n",
    "    data_set_1 = tmp[list_1]\n",
    "    data_set_2 = tmp[list_2]\n",
    "    # plt.hist(tmp[list_1],bins=20)\n",
    "    # plt.show()\n",
    "    # plt.hist(tmp[list_2],bins=20)\n",
    "    # plt.show()\n",
    "    plt.hist(tmp[list_t],bins=20)\n",
    "    plt.show()\n",
    "    #res1 = stats.ttest_ind(data_set_1,data_set_2)\n",
    "    res2 = stats.mannwhitneyu(data_set_1,data_set_2)\n",
    "    return res2.pvalue"
   ],
   "metadata": {
    "collapsed": false,
    "pycharm": {
     "name": "#%%\n"
    }
   }
  },
  {
   "cell_type": "code",
   "execution_count": 5,
   "outputs": [],
   "source": [
    "def sibling_pairwise_test(s):\n",
    "    movie = df[[s, \"Are you an only child? (1: Yes; 0: No; -1: Did not respond)\"]]\n",
    "    movie = movie.to_numpy()\n",
    "    list_1 = []\n",
    "    list_2 = []\n",
    "    for i in range(len(movie)):\n",
    "        if movie[i][0] >= 0:\n",
    "            if movie[i][1] == 1:\n",
    "                list_1.append(i)\n",
    "            elif movie[i][1] == 0:\n",
    "                list_2.append(i)\n",
    "\n",
    "    data_set_1 = movie[list_1,0]\n",
    "    data_set_2 = movie[list_2,0]\n",
    "    #res1 = stats.ttest_ind(data_set_1,data_set_2)\n",
    "    res2 = stats.mannwhitneyu(data_set_1,data_set_2)\n",
    "    return res2.pvalue"
   ],
   "metadata": {
    "collapsed": false,
    "pycharm": {
     "name": "#%%\n"
    }
   }
  },
  {
   "cell_type": "code",
   "execution_count": 6,
   "outputs": [],
   "source": [
    "\n",
    "\n",
    "def sibling_pairwise_ranking_test(s):\n",
    "    index = df.columns.get_loc(s)\n",
    "    tmp = user[:,index]\n",
    "    movie = df[[s, \"Are you an only child? (1: Yes; 0: No; -1: Did not respond)\"]]\n",
    "    movie = movie.to_numpy()\n",
    "    list_1 = []\n",
    "    list_2 = []\n",
    "    list_t = []\n",
    "    #using mean\n",
    "    for i in range(len(movie)):\n",
    "        if movie[i][0] >= 0:\n",
    "            list_t.append(i)\n",
    "            if movie[i][1] == 1:\n",
    "                list_1.append(i)\n",
    "            elif movie[i][1] == 0:\n",
    "                list_2.append(i)\n",
    "    #using median\n",
    "    # plt.hist(tmp[list_1],bins=17)\n",
    "    # plt.show()\n",
    "    # plt.hist(tmp[list_2],bins=17)\n",
    "    # plt.show()\n",
    "    # plt.hist(tmp[list_t],bins=17)\n",
    "    # plt.show()\n",
    "    data_set_1 = tmp[list_1]\n",
    "    data_set_2 = tmp[list_2]\n",
    "    #res1 = stats.ttest_ind(data_set_1,data_set_2,equal_var=False)\n",
    "    res2 = stats.mannwhitneyu(data_set_1,data_set_2)\n",
    "    return res2.pvalue"
   ],
   "metadata": {
    "collapsed": false,
    "pycharm": {
     "name": "#%%\n"
    }
   }
  },
  {
   "cell_type": "code",
   "execution_count": 37,
   "outputs": [],
   "source": [
    "def social_pairwise_test(s):\n",
    "    movie = df[[s, \"Movies are best enjoyed alone (1: Yes; 0: No; -1: Did not respond)\"]]\n",
    "    movie = movie.to_numpy()\n",
    "    list_1 = []\n",
    "    list_2 = []\n",
    "    for i in range(len(movie)):\n",
    "        if movie[i][0] >= 0:\n",
    "            if movie[i][1] == 1:\n",
    "                list_1.append(i)\n",
    "            elif movie[i][1] == 0:\n",
    "                list_2.append(i)\n",
    "\n",
    "    data_set_1 = movie[list_1,0]\n",
    "    data_set_2 = movie[list_2,0]\n",
    "    #res1 = stats.ttest_ind(data_set_1,data_set_2)\n",
    "    res2 = stats.mannwhitneyu(data_set_1,data_set_2)\n",
    "    return res2.pvalue"
   ],
   "metadata": {
    "collapsed": false,
    "pycharm": {
     "name": "#%%\n"
    }
   }
  },
  {
   "cell_type": "code",
   "execution_count": 7,
   "outputs": [],
   "source": [
    "\n",
    "\n",
    "def social_pairwise_ranking_test(s):\n",
    "    index = df.columns.get_loc(s)\n",
    "    tmp = user[:,index]\n",
    "    movie = df[[s, \"Movies are best enjoyed alone (1: Yes; 0: No; -1: Did not respond)\"]]\n",
    "    movie = movie.to_numpy()\n",
    "    list_1 = []\n",
    "    list_2 = []\n",
    "    list_t = []\n",
    "    #using mean\n",
    "    for i in range(len(movie)):\n",
    "        if movie[i][0] >= 0:\n",
    "            list_t.append(i)\n",
    "            if movie[i][1] == 1:\n",
    "                list_1.append(i)\n",
    "            elif movie[i][1] == 0:\n",
    "                list_2.append(i)\n",
    "    #using median\n",
    "    plt.hist(tmp[list_1],bins=17)\n",
    "    plt.show()\n",
    "    plt.hist(tmp[list_2],bins=17)\n",
    "    plt.show()\n",
    "    plt.hist(tmp[list_t],bins=17)\n",
    "    plt.show()\n",
    "\n",
    "    data_set_1 = tmp[list_1]\n",
    "    data_set_2 = tmp[list_2]\n",
    "    #res1 = stats.ttest_ind(data_set_1,data_set_2,equal_var=False)\n",
    "    res2 = stats.mannwhitneyu(data_set_1,data_set_2)\n",
    "    return res2.pvalue\n"
   ],
   "metadata": {
    "collapsed": false,
    "pycharm": {
     "name": "#%%\n"
    }
   }
  },
  {
   "cell_type": "code",
   "execution_count": 17,
   "outputs": [
    {
     "name": "stdout",
     "output_type": "stream",
     "text": [
      "[0.4633546107171035, 0.2165826978298735, 0.000689898689226025, 3.2597489300410695e-05, 0.005630207213346401, 0.8003592880753987, 0.44720630945969564, 0.0015965876314578266, 0.9327113598434841, 0.279628334003148, 0.5538119380676945, 0.00027480596780061697, 0.004138114730603468, 0.33269163470679874, 0.14341112054632074, 0.8760802935463481, 0.3212874627937683, 0.4324834504417546, 0.4904527130048717, 0.20283117638137893, 0.1642047834154705, 0.0001921522416123466, 0.29411294217720074, 0.38050637296777257, 0.6824779395662695, 0.26692731378586154, 0.0005208379990818079, 0.6682911505435931, 0.6030034313553492, 0.6247269457289462, 0.5359440850182189, 0.005727984546900741, 0.04035116491114102, 0.0007263249434270393, 0.5342739148913056, 0.32352482087527734, 0.33538316363750365, 0.0003065767294928448, 0.1263001661754656, 0.0009126068271208201, 0.7887143384173437, 0.0012790123350302515, 0.10806600724909737, 0.5680885295041683, 0.967223465908425, 0.22085729133285437, 0.01744843318702875, 0.590928033345668, 0.6028292480823598, 0.5313910554995511, 0.3744680144165068, 0.8524327340174319, 0.1268646418034094, 0.6122071677237775, 0.009895367044496065, 0.008772833483383986, 0.8951131889856244, 0.015315811661625102, 0.7914872291314017, 0.815681390881883, 0.9161824178148565, 0.35262100751406744, 0.3842290265444607, 0.17515964648070315, 0.6923713880773146, 0.4961629729503143, 0.08447004778128286, 0.04788815533721756, 0.5161409310540239, 0.9302227551231251, 0.6018991968282883, 0.5482899354674584, 0.28660680296419816, 0.02337790503195007, 0.0006656538824368997, 0.00034912225571141433, 0.45607474018385763, 0.1287932618626789, 0.3688433154814974, 0.6960750834153202, 0.5615672795560755, 0.16574481453675294, 0.6929651196053314, 0.008186605894177454, 0.033414078847304685, 0.35538642802741316, 0.27194213639132314, 0.2574555153124285, 0.18152796533738735, 0.6431022909734742, 0.7881428987895975, 0.6231980689084595, 0.675127240879538, 0.15318859327993917, 0.0002829907413399772, 0.5569274515780867, 0.007590732969112774, 0.07551174507948243, 0.03304628809150941, 0.0009609870982276367, 0.24975055170143212, 0.3660237444028689, 0.8511373592368996, 0.0030573736917533676, 0.4736582890215171, 0.4003617434640535, 0.8102130568538158, 0.9320694855334969, 0.14083997360519143, 0.1391085688573506, 0.856814865167725, 0.02368832260131315, 6.507339379806275e-07, 0.18702263332146973, 0.026961774215015246, 0.5493619464206425, 0.34646035516207485, 0.5627741153647612, 0.5170815968455246, 0.27033980322864626, 0.7368641820872177, 0.437833855220394, 0.027069521711119142, 0.5414873405388827, 0.06675974581786007, 0.27333577893330785, 0.14925920456753258, 0.32355257227575085, 0.014171525959901848, 0.7284541890106647, 0.8067923495360115, 0.2771617245959056, 0.17714633932366763, 0.12762980850859132, 0.13880856123775812, 0.4221130039336851, 0.9376385387850152, 0.24455856183281732, 0.6306762112030335, 0.12970307848806598, 0.1371736864083099, 0.1812441565770676, 0.002883905418763259, 0.0037521572926141776, 0.9300298049440298, 0.0521271341168058, 0.4277548403847836, 0.2131578997299427, 0.6333762907126526, 0.00015316824763101267, 0.8595194085635073, 0.03438584212201047, 0.38822630153040094, 0.46188347316646916, 7.869818843334955e-07, 0.123542240166352, 0.5500333846253034, 0.03503024715037005, 6.260642969606279e-05, 0.9062854482796732, 0.0026722178477964127, 0.37421141332986285, 0.10026270993270474, 0.35247522551922483, 0.42754579880750077, 0.06015612894288305, 0.005577177845814512, 0.5656906855005134, 0.0011615383340181683, 0.213399157456434, 0.16270130627318957, 0.037809786728117654, 0.39938632512395433, 0.6240468397172, 0.003301560255436246, 0.7134645114618832, 0.2703378950313381, 7.01008525326829e-06, 0.3692529834215992, 0.2097639940164131, 0.5469386885369821, 0.9564959589213273, 0.1364158607648799, 0.1071918018548953, 0.002200660815852097, 0.19141964422987512, 0.797560683087793, 0.3108204248138128, 0.17750876674477178, 0.21146825046456275, 0.00013165006371249223, 0.006799577092963639, 0.9080584677456508, 0.27031398692280917, 0.22809477565227065, 0.006036873707549094, 0.4380377976218799, 0.006846121802744064, 0.02436343780958122, 0.0234478839616008, 0.03557062932687947, 0.0038423893005622295, 0.01557550338842877, 0.2168818460658335, 0.004481199762113227, 0.7632176740898993, 0.147793780904745, 0.7221257290821472, 0.8183585383836807, 0.09484850999837877, 0.016323431462305527, 2.205554849847227e-07, 0.25291694656166175, 0.0336605333834601, 0.573628358603024, 0.006533499729681919, 0.04612666640341158, 0.04962383407689633, 0.03713202813609925, 0.058155526729217595, 0.9450322245470267, 0.5236236001852574, 0.6990988672509102, 0.2394206748532015, 0.24380663263030167, 0.601905808494664, 0.2732270659886057, 0.9774586088439319, 0.9525137368435432, 0.7005442297153617, 4.417554830638015e-06, 0.9357935810452368, 0.04035922710448801, 0.09642840590294902, 0.3488882306811423, 1.0737192744143113e-07, 0.21979775274095192, 0.07741251177704364, 0.09046805586731013, 0.07783429827471555, 0.10429363378547597, 4.00264557097022e-07, 0.18830805869665135, 0.007751921674210418, 0.3542487774333515, 0.09922093452798804, 0.37141347539834657, 0.8736923828499282, 0.0077495113824779475, 0.5410087551479656, 0.38955938220901376, 0.08811250739979827, 0.6760502701770967, 0.0841148421792633, 0.4309896784329883, 0.6665879420941319, 0.8395878118010573, 0.008078752722581874, 2.8740011107177303e-06, 0.8309491920752502, 0.18334541905431312, 0.5252426363957128, 0.07659453802500628, 0.49208456881187834, 0.44464167632545515, 0.09392908976074765, 0.1253895297111166, 0.8413429416360158, 0.4987058584816412, 0.12641369527821336, 0.03743878082327173, 0.04706932620050782, 0.0008184076850189911, 0.04587841400013802, 0.7750333928330739, 0.9457015017261712, 0.07335033874937388, 0.43396879530116894, 0.04949202135211867, 0.09810359072043537, 0.6095702713137844, 0.78028459497053, 0.0855634271937438, 0.012517854550018987, 0.9703110204774519, 0.5624038545718052, 0.007850271456957892, 0.013690706893641985, 0.08450126749887193, 0.9900235197688151, 0.33213212558574623, 0.9672861038755579, 0.04332431765068044, 0.4078127879978567, 0.01196164900621904, 0.7631109098909789, 0.6206757117158933, 0.005175253545026833, 0.09203645915102075, 0.8493168029348225, 0.9335356139286085, 0.028211030923257295, 0.00050681453085939, 0.23881514883363464, 0.8952560837667803, 0.0215423690135308, 1.033929934621209e-06, 0.028637390050976114, 0.022846857111245535, 0.578837741544449, 0.0004716969513465457, 0.7510304443867927, 0.04115629339644125, 0.7279258150748722, 0.07298597774205816, 8.619743437572463e-07, 0.09522473090460047, 0.819729778187456, 0.2961287604233179, 0.6756021759634454, 0.7316658156055349, 0.1282920825483661, 0.9845507748933747, 0.8742716646415084, 0.13293766324521628, 0.4892272178365613, 0.07904006330053015, 0.07208976705106479, 0.9186663802705125, 0.3265524759952848, 0.4761303532926091, 0.5947970282239406, 0.937231535857697, 0.07593845211491317, 0.34031078455575337, 0.04344379757752767, 0.48961320462864666, 0.49454537041942626, 0.004203752876453699, 0.49582836652645557, 0.05337509773536169, 0.053860709683693574, 0.02403800260276414, 0.346571793251785, 0.13482771103577273, 0.8493001892944763, 0.9202083801031454, 0.1350554100264668, 0.8387378681867755, 0.03641567150573672, 0.0005902497196750052, 0.9472705464497021, 0.25876283891638074, 0.08532224834214024, 0.4694959421885453, 0.09305861179342134, 0.7124934348972851, 4.810539296586099e-06, 0.8607987963210275, 0.6918729995991345, 0.027161274375488643, 0.049097981609265554, 0.3785370902612373, 0.22352408460563478, 0.8130661473424218, 9.942908292062132e-05, 0.12579838536779273, 0.47511804469284347, 0.8943868968830296, 0.8257413351912647, 0.003017048133990712, 0.3071393564735245, 0.36370316015298576, 0.8476195468976332, 0.6613627765439972, 0.00014037595331335185, 0.013231320048985069, 0.8001844693032251, 0.1086622401678123, 2.0337637226211622e-05, 0.4286713627531963, 0.5018390350903599, 0.6790106748239786, 0.566726768799154, 0.34638972424987624, 0.8864337435720054, 0.993687023394557, 5.7055902436590943e-08, 0.23471754909570042, 0.28561597045836706, 0.19486018936854876, 0.44924757725086717, 0.555859382092795, 0.00011983783782924808, 1.6212836453696428e-09, 0.9594683177089232, 0.35521372912822924, 0.3129014967771876, 0.8651832772364094, 0.26965496796261756]\n"
     ]
    }
   ],
   "source": [
    "df = pd.read_csv(\"movieReplicationSet.csv\")\n",
    "res2 = []\n",
    "for i in df.iloc[:,:400].columns:\n",
    "    res2.append(gender_pairwise_ranking_test(i))\n",
    "print(res2)"
   ],
   "metadata": {
    "collapsed": false,
    "pycharm": {
     "name": "#%%\n"
    }
   }
  },
  {
   "cell_type": "code",
   "execution_count": 18,
   "outputs": [
    {
     "name": "stdout",
     "output_type": "stream",
     "text": [
      "2\n",
      "0.000689898689226025\n",
      "3\n",
      "3.2597489300410695e-05\n",
      "7\n",
      "0.0015965876314578266\n",
      "11\n",
      "0.00027480596780061697\n",
      "12\n",
      "0.004138114730603468\n",
      "21\n",
      "0.0001921522416123466\n",
      "26\n",
      "0.0005208379990818079\n",
      "33\n",
      "0.0007263249434270393\n",
      "37\n",
      "0.0003065767294928448\n",
      "39\n",
      "0.0009126068271208201\n",
      "41\n",
      "0.0012790123350302515\n",
      "74\n",
      "0.0006656538824368997\n",
      "75\n",
      "0.00034912225571141433\n",
      "94\n",
      "0.0002829907413399772\n",
      "99\n",
      "0.0009609870982276367\n",
      "103\n",
      "0.0030573736917533676\n",
      "112\n",
      "6.507339379806275e-07\n",
      "142\n",
      "0.002883905418763259\n",
      "143\n",
      "0.0037521572926141776\n",
      "149\n",
      "0.00015316824763101267\n",
      "154\n",
      "7.869818843334955e-07\n",
      "158\n",
      "6.260642969606279e-05\n",
      "160\n",
      "0.0026722178477964127\n",
      "168\n",
      "0.0011615383340181683\n",
      "174\n",
      "0.003301560255436246\n",
      "177\n",
      "7.01008525326829e-06\n",
      "184\n",
      "0.002200660815852097\n",
      "190\n",
      "0.00013165006371249223\n",
      "201\n",
      "0.0038423893005622295\n",
      "204\n",
      "0.004481199762113227\n",
      "211\n",
      "2.205554849847227e-07\n",
      "230\n",
      "4.417554830638015e-06\n",
      "235\n",
      "1.0737192744143113e-07\n",
      "241\n",
      "4.00264557097022e-07\n",
      "258\n",
      "2.8740011107177303e-06\n",
      "272\n",
      "0.0008184076850189911\n",
      "302\n",
      "0.00050681453085939\n",
      "306\n",
      "1.033929934621209e-06\n",
      "310\n",
      "0.0004716969513465457\n",
      "315\n",
      "8.619743437572463e-07\n",
      "338\n",
      "0.004203752876453699\n",
      "350\n",
      "0.0005902497196750052\n",
      "357\n",
      "4.810539296586099e-06\n",
      "365\n",
      "9.942908292062132e-05\n",
      "370\n",
      "0.003017048133990712\n",
      "375\n",
      "0.00014037595331335185\n",
      "379\n",
      "2.0337637226211622e-05\n",
      "387\n",
      "5.7055902436590943e-08\n",
      "393\n",
      "0.00011983783782924808\n",
      "394\n",
      "1.6212836453696428e-09\n",
      "50\n"
     ]
    }
   ],
   "source": [
    "count1 = 0\n",
    "count2 = 0\n",
    "count_diff = 0\n",
    "for i in range(0,400):\n",
    "    flag = 1\n",
    "    if(res2[i] < 0.005):\n",
    "        count2 = count2 + 1\n",
    "        flag = -1\n",
    "    if(flag == -1):\n",
    "        print(i)\n",
    "        print(res2[i])\n",
    "\n",
    "#print(count1)\n",
    "print(count2)\n",
    "#print(count_diff)"
   ],
   "metadata": {
    "collapsed": false,
    "pycharm": {
     "name": "#%%\n"
    }
   }
  },
  {
   "cell_type": "code",
   "execution_count": 24,
   "outputs": [
    {
     "data": {
      "text/plain": "<Figure size 432x288 with 1 Axes>",
      "image/png": "[encoded data removed]"
     },
     "metadata": {
      "needs_background": "light"
     },
     "output_type": "display_data"
    },
    {
     "data": {
      "text/plain": "0.003301560255436246"
     },
     "execution_count": 24,
     "metadata": {},
     "output_type": "execute_result"
    }
   ],
   "source": [
    "gender_pairwise_ranking_test(\"Star Wars: Episode V - The Empire Strikes Back (1980)\")"
   ],
   "metadata": {
    "collapsed": false,
    "pycharm": {
     "name": "#%%\n"
    }
   }
  },
  {
   "cell_type": "code",
   "execution_count": null,
   "outputs": [],
   "source": [],
   "metadata": {
    "collapsed": false,
    "pycharm": {
     "name": "#%%\n"
    }
   }
  }
 ],
 "metadata": {
  "kernelspec": {
   "display_name": "Python 3",
   "language": "python",
   "name": "python3"
  },
  "language_info": {
   "codemirror_mode": {
    "name": "ipython",
    "version": 2
   },
   "file_extension": ".py",
   "mimetype": "text/x-python",
   "name": "python",
   "nbconvert_exporter": "python",
   "pygments_lexer": "ipython2",
   "version": "2.7.6"
  }
 },
 "nbformat": 4,
 "nbformat_minor": 0
}