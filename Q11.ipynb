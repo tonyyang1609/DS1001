{
 "cells": [
  {
   "cell_type": "code",
   "execution_count": 6,
   "metadata": {
    "collapsed": true
   },
   "outputs": [],
   "source": [
    "from scipy import stats\n",
    "import numpy as np\n",
    "import pandas as pd\n",
    "import matplotlib.pyplot as plt\n",
    "df = pd.read_csv(\"movieReplicationSet.csv\")\n"
   ]
  },
  {
   "cell_type": "code",
   "execution_count": 7,
   "outputs": [],
   "source": [
    "movie_array = df.iloc[:,:400].to_numpy()\n",
    "\n"
   ],
   "metadata": {
    "collapsed": false,
    "pycharm": {
     "name": "#%%\n"
    }
   }
  },
  {
   "cell_type": "code",
   "execution_count": 17,
   "outputs": [
    {
     "name": "stdout",
     "output_type": "stream",
     "text": [
      "[[nan]\n",
      " [nan]\n",
      " [nan]\n",
      " ...\n",
      " [ 3.]\n",
      " [ 4.]\n",
      " [nan]]\n",
      "[4.0, 4.0, 4.0, 4.0, 4.0, 3.5, 4.0, 3.5, 4.0, 1.0, 1.0, 3.0, 4.0, 4.0, 3.0, 3.0, 1.5, 4.0, 0.5, 2.5, 0.0, 3.0, 3.5, 1.0, 4.0, 4.0, 3.0, 2.0, 3.0, 4.0, 2.5, 4.0, 3.5, 3.0, 1.5, 3.0, 4.0, 3.5, 2.5, 3.5, 3.0, 3.5, 4.0, 3.0, 2.5, 4.0, 3.5, 2.0, 2.0, 2.5, 3.5, 3.5, 3.5, 2.0, 3.0, 1.0, 3.0, 1.5, 3.0, 3.5, 3.0, 4.0, 3.5, 3.0, 4.0, 4.0, 3.0, 2.0, 1.5, 4.0, 3.5, 4.0, 1.5, 3.5, 4.0, 0.5, 3.0, 2.0, 3.0, 4.0, 4.0, 4.0, 3.5, 3.5, 4.0, 3.0, 3.0, 1.0, 3.5, 4.0, 4.0, 2.5, 1.5, 3.5, 3.0, 1.5, 3.0, 2.0, 4.0, 3.5, 4.0, 3.5, 3.5, 4.0, 4.0, 3.5, 4.0, 2.0, 3.5, 2.0, 3.5, 1.5, 2.5, 0.5, 2.0, 2.5, 3.5, 4.0, 3.0, 2.0, 3.5, 2.5, 2.5, 2.5, 4.0, 2.5, 2.0, 3.0, 3.5, 4.0, 4.0, 4.0, 1.5, 3.5, 2.5, 3.5, 4.0, 4.0, 2.5, 3.5, 2.5, 3.0, 2.5, 3.5, 3.5, 4.0, 2.0, 4.0, 3.5, 0.5, 4.0, 3.5, 2.5, 2.5, 3.0, 3.5, 3.5, 4.0, 3.0, 4.0, 3.5, 3.0, 2.5, 3.0, 3.0, 4.0, 4.0, 4.0, 4.0, 3.5, 3.0, 4.0, 3.0, 0.5, 3.0, 3.5, 4.0, 3.5, 3.5, 2.0, 3.5, 4.0, 4.0, 3.0, 3.0, 3.0, 3.5, 3.5, 3.0, 3.5, 4.0, 3.0, 3.5, 3.5, 3.0, 4.0, 1.5, 2.5, 3.0, 4.0, 0.5, 2.5, 1.0, 4.0, 4.0, 4.0, 4.0, 2.0, 2.0, 4.0, 4.0, 2.5, 4.0, 2.5, 1.5, 2.5, 2.5, 1.0, 2.5, 2.5, 2.5, 3.0, 3.0, 4.0, 3.0, 2.5, 3.5, 2.5, 0.5, 4.0, 4.0, 1.5, 4.0, 2.5, 0.5, 4.0, 4.0, 3.0, 2.5, 3.5, 4.0, 4.0, 0.5, 4.0, 3.5, 4.0, 4.0, 3.5, 3.0, 3.5, 4.0, 1.0, 4.0, 2.0, 3.5, 3.0, 4.0, 2.5, 3.0, 0.0, 3.5, 3.0, 4.0, 4.0, 3.5, 3.0, 1.0, 4.0, 3.0, 2.0, 4.0, 2.0, 4.0, 1.5, 3.5, 2.5, 3.5, 3.5, 3.0, 3.5, 4.0, 3.5, 3.0, 2.5, 2.5, 4.0, 3.0, 4.0, 4.0, 4.0, 2.0, 2.5, 4.0, 3.0, 3.0, 3.0, 3.5, 2.5, 3.5, 4.0, 3.5, 3.5, 4.0, 3.0, 4.0, 2.0, 1.5, 3.5, 2.5, 2.5, 4.0, 0.0, 3.0, 3.5, 2.5, 4.0, 4.0, 4.0, 3.5, 3.5, 4.0, 4.0, 3.0, 3.0, 3.0, 3.5, 2.0, 3.0, 4.0, 3.0, 3.5, 2.0, 4.0, 3.0, 4.0, 4.0, 3.0, 3.0, 4.0, 4.0, 2.0, 3.5, 3.5, 4.0, 2.0, 2.0, 3.0, 3.5, 3.5, 2.0, 3.5, 3.0, 0.0, 2.5, 1.0, 3.5, 2.5, 4.0, 3.0, 2.0, 3.0, 2.0, 4.0, 3.5, 4.0, 0.5, 3.5, 2.5, 4.0, 2.5, 0.5, 3.0, 4.0, 3.5, 4.0, 2.0, 3.5, 4.0, 4.0, 3.5, 4.0, 3.0, 3.5, 3.5, 4.0, 3.0, 4.0, 4.0, 3.0, 3.0, 4.0, 3.0, 3.5, 2.5, 3.0, 2.5, 4.0, 3.0, 4.0, 2.5, 4.0, 2.0, 2.5, 4.0, 3.5, 1.5, 3.0, 3.0, 0.5, 3.5, 4.0, 2.5, 3.0, 4.0, 3.5, 1.5, 4.0, 3.0, 4.0, 3.5, 4.0, 0.5, 4.0, 4.0, 2.5, 3.0, 3.5, 3.0, 4.0, 1.5, 4.0, 3.0, 1.5, 4.0, 4.0, 3.5, 3.5, 2.5, 2.5, 3.5, 3.5, 4.0, 4.0, 4.0, 1.5, 4.0, 3.5, 4.0, 1.5, 4.0, 2.0, 3.5, 3.0, 3.0, 3.0, 0.0, 3.5, 4.0, 2.5, 4.0, 3.0, 3.0, 3.5, 4.0, 3.0, 3.5, 3.5, 4.0, 3.5, 4.0, 3.0, 3.5, 4.0, 3.0, 3.0, 3.5, 3.5, 3.5, 3.0, 4.0, 4.0, 4.0, 2.5, 3.0, 4.0, 4.0, 3.5, 3.0, 4.0]\n"
     ]
    },
    {
     "data": {
      "text/plain": "<Figure size 432x288 with 1 Axes>",
      "image/png": "[encoded data removed]"
     },
     "metadata": {
      "needs_background": "light"
     },
     "output_type": "display_data"
    }
   ],
   "source": [
    "movie = df[[\"Star Wars: Episode V - The Empire Strikes Back (1980)\"]]\n",
    "movie = movie.to_numpy()\n",
    "print(movie)\n",
    "list_t = []\n",
    "\n",
    "for i in (movie):\n",
    "    if i >= 0:\n",
    "        list_t.append(i[0])\n",
    "print(list_t[:])\n",
    "plt.hist(list_t,bins=20)\n",
    "plt.show()\n",
    "\n"
   ],
   "metadata": {
    "collapsed": false,
    "pycharm": {
     "name": "#%%\n"
    }
   }
  },
  {
   "cell_type": "code",
   "execution_count": 19,
   "outputs": [],
   "source": [
    "movie = df[[\"Gender identity (1 = female; 2 = male; 3 = self-described)\"]]\n",
    "movie = movie.to_numpy()\n",
    "list_t = []\n",
    "list_1 = []\n",
    "list_2 = []\n",
    "    #using mean\n",
    "for i in range(len(movie)):\n",
    "    if movie[i] >= 0:\n",
    "        list_t.append(i)\n",
    "        if movie[i] == 1:\n",
    "            list_1.append(i)\n",
    "        elif movie[i] == 2:\n",
    "            list_2.append(i)"
   ],
   "metadata": {
    "collapsed": false,
    "pycharm": {
     "name": "#%%\n"
    }
   }
  },
  {
   "cell_type": "code",
   "execution_count": 20,
   "outputs": [
    {
     "name": "stdout",
     "output_type": "stream",
     "text": [
      "[0, 1, 2, 3, 4, 5, 6, 7, 8, 10, 11, 12, 14, 16, 18, 20, 21, 23, 25, 26, 28, 29, 30, 31, 33, 34, 35, 38, 39, 42, 43, 44, 45, 47, 48, 49, 50, 52, 53, 55, 56, 57, 58, 59, 60, 61, 63, 64, 65, 66, 67, 70, 72, 73, 74, 75, 76, 77, 80, 82, 83, 85, 86, 87, 89, 96, 97, 98, 99, 100, 101, 102, 103, 104, 105, 106, 107, 108, 109, 112, 113, 114, 115, 116, 117, 118, 119, 120, 121, 123, 124, 125, 126, 128, 130, 131, 132, 133, 134, 135, 136, 137, 138, 139, 140, 141, 142, 143, 144, 145, 148, 149, 150, 151, 153, 154, 156, 157, 159, 163, 164, 165, 166, 167, 168, 169, 170, 171, 176, 177, 180, 181, 182, 185, 186, 189, 190, 191, 192, 193, 194, 195, 196, 197, 198, 199, 201, 202, 203, 204, 206, 208, 209, 210, 211, 212, 213, 215, 216, 218, 220, 221, 222, 223, 225, 226, 227, 229, 230, 231, 232, 233, 234, 235, 239, 240, 241, 242, 243, 244, 245, 246, 247, 248, 249, 251, 252, 253, 255, 256, 258, 259, 260, 261, 262, 263, 264, 265, 266, 267, 268, 270, 271, 272, 274, 275, 276, 277, 278, 280, 281, 282, 283, 285, 286, 287, 288, 290, 291, 292, 293, 294, 296, 297, 298, 299, 300, 301, 302, 303, 304, 305, 306, 307, 308, 309, 310, 311, 312, 313, 314, 317, 318, 320, 321, 322, 323, 324, 325, 326, 327, 328, 329, 330, 331, 332, 333, 334, 335, 337, 338, 339, 340, 341, 342, 343, 344, 345, 347, 348, 349, 350, 351, 352, 354, 355, 358, 359, 360, 361, 362, 364, 365, 366, 367, 368, 369, 370, 372, 373, 374, 375, 376, 378, 379, 380, 381, 382, 383, 385, 386, 388, 390, 392, 393, 394, 395, 397, 398, 401, 402, 404, 405, 406, 407, 408, 410, 411, 412, 413, 416, 418, 419, 420, 421, 423, 424, 425, 426, 427, 429, 432, 433, 434, 435, 437, 438, 440, 441, 442, 445, 448, 450, 452, 455, 457, 461, 462, 465, 466, 468, 469, 471, 472, 473, 474, 475, 476, 477, 478, 479, 480, 482, 483, 484, 485, 487, 488, 490, 491, 492, 493, 494, 495, 496, 498, 500, 502, 503, 504, 506, 507, 509, 510, 511, 512, 513, 514, 515, 516, 518, 519, 520, 521, 522, 523, 525, 526, 527, 528, 530, 531, 532, 533, 534, 535, 536, 537, 538, 540, 542, 543, 545, 548, 549, 551, 552, 553, 554, 555, 557, 558, 559, 561, 562, 565, 567, 568, 570, 571, 572, 573, 574, 576, 577, 578, 579, 580, 581, 582, 585, 586, 587, 588, 589, 590, 592, 596, 598, 599, 600, 601, 603, 604, 605, 606, 607, 608, 609, 610, 612, 613, 614, 615, 616, 617, 618, 620, 621, 623, 624, 625, 626, 627, 628, 629, 630, 631, 632, 633, 634, 635, 638, 639, 640, 644, 645, 646, 647, 648, 649, 650, 651, 653, 654, 655, 656, 657, 661, 662, 663, 664, 665, 666, 667, 669, 670, 671, 672, 673, 674, 676, 677, 678, 680, 681, 682, 683, 684, 687, 689, 690, 691, 692, 693, 696, 697, 698, 699, 701, 702, 703, 704, 705, 706, 707, 708, 709, 710, 711, 712, 713, 714, 715, 717, 719, 720, 722, 724, 727, 728, 729, 730, 731, 732, 733, 734, 735, 737, 738, 740, 741, 742, 743, 744, 745, 748, 749, 750, 752, 753, 754, 755, 757, 758, 759, 760, 761, 762, 763, 765, 766, 767, 768, 769, 770, 773, 774, 776, 777, 778, 779, 781, 782, 784, 785, 786, 788, 789, 790, 791, 792, 793, 794, 795, 796, 797, 798, 799, 800, 801, 802, 804, 805, 807, 808, 809, 812, 816, 817, 818, 819, 820, 821, 824, 825, 826, 828, 830, 832, 833, 834, 835, 836, 838, 841, 842, 843, 845, 846, 849, 850, 851, 853, 854, 855, 856, 857, 859, 860, 861, 863, 865, 867, 868, 869, 870, 871, 872, 873, 874, 877, 878, 880, 881, 885, 886, 887, 889, 891, 893, 897, 907, 909, 910, 911, 912, 913, 915, 917, 918, 919, 920, 922, 924, 925, 926, 927, 928, 929, 930, 931, 932, 933, 935, 936, 937, 938, 939, 941, 942, 943, 944, 946, 948, 949, 950, 951, 952, 954, 955, 956, 957, 959, 962, 963, 965, 967, 968, 969, 970, 975, 977, 980, 982, 983, 984, 985, 986, 987, 988, 989, 990, 991, 992, 994, 995, 997, 998, 999, 1000, 1002, 1003, 1005, 1008, 1009, 1011, 1014, 1015, 1016, 1017, 1020, 1021, 1023, 1024, 1025, 1026, 1027, 1030, 1034, 1035, 1036, 1037, 1038, 1039, 1040, 1041, 1042, 1043, 1045, 1046, 1047, 1048, 1050, 1051, 1055, 1056, 1057, 1058, 1059, 1060, 1061, 1062, 1063, 1064, 1066, 1067, 1068, 1070, 1072, 1073, 1074, 1075, 1076, 1077, 1079, 1080, 1083, 1085, 1086, 1087, 1091, 1092, 1093, 1094, 1095, 1096]\n",
      "[9, 13, 15, 17, 19, 22, 24, 32, 36, 37, 40, 41, 46, 51, 54, 62, 68, 69, 71, 78, 79, 81, 84, 88, 90, 91, 92, 93, 94, 95, 110, 111, 122, 127, 129, 146, 147, 152, 155, 158, 160, 161, 162, 172, 173, 174, 175, 178, 179, 183, 184, 187, 188, 200, 205, 214, 217, 219, 224, 228, 236, 237, 238, 250, 254, 257, 279, 284, 289, 315, 319, 336, 346, 353, 356, 363, 377, 384, 387, 389, 391, 396, 399, 400, 403, 409, 414, 415, 417, 422, 428, 430, 431, 436, 439, 443, 444, 446, 447, 449, 451, 453, 456, 458, 459, 463, 464, 467, 470, 481, 486, 489, 497, 499, 501, 505, 508, 517, 524, 529, 539, 541, 544, 546, 547, 550, 556, 560, 563, 564, 566, 569, 575, 583, 584, 591, 593, 594, 595, 597, 602, 611, 619, 622, 636, 637, 641, 642, 643, 652, 658, 659, 660, 675, 679, 685, 688, 694, 695, 700, 716, 718, 721, 723, 726, 736, 739, 746, 747, 751, 756, 764, 771, 772, 775, 780, 783, 787, 803, 806, 810, 811, 813, 814, 815, 822, 823, 827, 829, 837, 839, 840, 847, 848, 852, 862, 864, 866, 875, 876, 879, 883, 884, 888, 890, 892, 894, 895, 898, 899, 900, 901, 903, 904, 906, 908, 914, 921, 934, 940, 945, 953, 958, 960, 961, 964, 966, 974, 976, 978, 979, 993, 996, 1001, 1004, 1006, 1007, 1010, 1013, 1018, 1019, 1022, 1028, 1029, 1032, 1033, 1044, 1049, 1053, 1054, 1065, 1069, 1071, 1078, 1081, 1082, 1084, 1088, 1089, 1090]\n"
     ]
    }
   ],
   "source": [
    "print(list_1)\n",
    "print(list_2)\n"
   ],
   "metadata": {
    "collapsed": false,
    "pycharm": {
     "name": "#%%\n"
    }
   }
  },
  {
   "cell_type": "code",
   "execution_count": 33,
   "outputs": [
    {
     "data": {
      "text/plain": "<Figure size 432x288 with 1 Axes>",
      "image/png": "[encoded data removed]"
     },
     "metadata": {
      "needs_background": "light"
     },
     "output_type": "display_data"
    },
    {
     "data": {
      "text/plain": "<Figure size 432x288 with 1 Axes>",
      "image/png": "[encoded data removed]"
     },
     "metadata": {
      "needs_background": "light"
     },
     "output_type": "display_data"
    }
   ],
   "source": [
    "score_1=[]\n",
    "score_2=[]\n",
    "sc = []\n",
    "movie_array = df.iloc[:,:400].to_numpy()\n",
    "for i in list_1:\n",
    "    score_1.append(np.nanmean(movie_array[i]))\n",
    "    sc.append(np.nanmean(movie_array[i]))\n",
    "for i in list_2:\n",
    "    score_2.append(np.nanmean(movie_array[i]))\n",
    "    sc.append(np.nanmean(movie_array[i]))\n",
    "plt.hist(sc,bins=20)\n",
    "plt.show()\n",
    "plt.hist(score_2,bins=20)\n",
    "plt.show()\n",
    "\n",
    "# print(np.mean(score_1))\n",
    "# print(np.mean(score_2))"
   ],
   "metadata": {
    "collapsed": false,
    "pycharm": {
     "name": "#%%\n"
    }
   }
  },
  {
   "cell_type": "code",
   "execution_count": 35,
   "outputs": [
    {
     "name": "stdout",
     "output_type": "stream",
     "text": [
      "Ttest_indResult(statistic=-0.3106587686111682, pvalue=0.756120832710876)\n"
     ]
    }
   ],
   "source": [
    "res2 = stats.ttest_ind(score_1,score_2)\n",
    "print(res2)"
   ],
   "metadata": {
    "collapsed": false,
    "pycharm": {
     "name": "#%%\n"
    }
   }
  }
 ],
 "metadata": {
  "kernelspec": {
   "display_name": "Python 3",
   "language": "python",
   "name": "python3"
  },
  "language_info": {
   "codemirror_mode": {
    "name": "ipython",
    "version": 2
   },
   "file_extension": ".py",
   "mimetype": "text/x-python",
   "name": "python",
   "nbconvert_exporter": "python",
   "pygments_lexer": "ipython2",
   "version": "2.7.6"
  }
 },
 "nbformat": 4,
 "nbformat_minor": 0
}