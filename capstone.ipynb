{
 "cells": [
  {
   "cell_type": "code",
   "execution_count": 51,
   "metadata": {},
   "outputs": [],
   "source": [
    "import pandas as pd\n",
    "from sklearn.preprocessing import PolynomialFeatures\n",
    "from sklearn.preprocessing import StandardScaler\n",
    "import numpy as np\n",
    "import tensorflow as tf\n",
    "from tensorflow import keras\n",
    "from tensorflow.keras import layers\n",
    "from keras.utils.vis_utils import plot_model\n",
    "from sklearn.metrics import r2_score\n",
    "from sklearn.metrics import mean_absolute_error\n",
    "from sklearn.linear_model import Ridge\n",
    "from scipy.stats import ttest_ind, ttest_rel"
   ]
  },
  {
   "cell_type": "code",
   "execution_count": 52,
   "metadata": {},
   "outputs": [
    {
     "data": {
      "text/plain": "         ID  Year_Birth   Education Marital_Status   Income  Kidhome  \\\n0      5524        1957  Graduation         Single  58138.0        0   \n1      2174        1954  Graduation         Single  46344.0        1   \n2      4141        1965  Graduation       Together  71613.0        0   \n3      6182        1984  Graduation       Together  26646.0        1   \n4      5324        1981         PhD        Married  58293.0        1   \n...     ...         ...         ...            ...      ...      ...   \n2235  10870        1967  Graduation        Married  61223.0        0   \n2236   4001        1946         PhD       Together  64014.0        2   \n2237   7270        1981  Graduation       Divorced  56981.0        0   \n2238   8235        1956      Master       Together  69245.0        0   \n2239   9405        1954         PhD        Married  52869.0        1   \n\n      Teenhome Dt_Customer  Recency  MntWines  MntFruits  MntMeatProducts  \\\n0            0  04-09-2012       58       635         88              546   \n1            1  08-03-2014       38        11          1                6   \n2            0  21-08-2013       26       426         49              127   \n3            0  10-02-2014       26        11          4               20   \n4            0  19-01-2014       94       173         43              118   \n...        ...         ...      ...       ...        ...              ...   \n2235         1  13-06-2013       46       709         43              182   \n2236         1  10-06-2014       56       406          0               30   \n2237         0  25-01-2014       91       908         48              217   \n2238         1  24-01-2014        8       428         30              214   \n2239         1  15-10-2012       40        84          3               61   \n\n      MntFishProducts  MntSweetProducts  MntGoldProds  NumDealsPurchases  \\\n0                 172                88            88                  3   \n1                   2                 1             6                  2   \n2                 111                21            42                  1   \n3                  10                 3             5                  2   \n4                  46                27            15                  5   \n...               ...               ...           ...                ...   \n2235               42               118           247                  2   \n2236                0                 0             8                  7   \n2237               32                12            24                  1   \n2238               80                30            61                  2   \n2239                2                 1            21                  3   \n\n      NumWebPurchases  NumCatalogPurchases  NumStorePurchases  \\\n0                   8                   10                  4   \n1                   1                    1                  2   \n2                   8                    2                 10   \n3                   2                    0                  4   \n4                   5                    3                  6   \n...               ...                  ...                ...   \n2235                9                    3                  4   \n2236                8                    2                  5   \n2237                2                    3                 13   \n2238                6                    5                 10   \n2239                3                    1                  4   \n\n      NumWebVisitsMonth  AcceptedCmp3  AcceptedCmp4  AcceptedCmp5  \\\n0                     7             0             0             0   \n1                     5             0             0             0   \n2                     4             0             0             0   \n3                     6             0             0             0   \n4                     5             0             0             0   \n...                 ...           ...           ...           ...   \n2235                  5             0             0             0   \n2236                  7             0             0             0   \n2237                  6             0             1             0   \n2238                  3             0             0             0   \n2239                  7             0             0             0   \n\n      AcceptedCmp1  AcceptedCmp2  Complain  Z_CostContact  Z_Revenue  Response  \n0                0             0         0              3         11         1  \n1                0             0         0              3         11         0  \n2                0             0         0              3         11         0  \n3                0             0         0              3         11         0  \n4                0             0         0              3         11         0  \n...            ...           ...       ...            ...        ...       ...  \n2235             0             0         0              3         11         0  \n2236             1             0         0              3         11         0  \n2237             0             0         0              3         11         0  \n2238             0             0         0              3         11         0  \n2239             0             0         0              3         11         1  \n\n[2240 rows x 29 columns]",
      "text/html": "<div>\n<style scoped>\n    .dataframe tbody tr th:only-of-type {\n        vertical-align: middle;\n    }\n\n    .dataframe tbody tr th {\n        vertical-align: top;\n    }\n\n    .dataframe thead th {\n        text-align: right;\n    }\n</style>\n<table border=\"1\" class=\"dataframe\">\n  <thead>\n    <tr style=\"text-align: right;\">\n      <th></th>\n      <th>ID</th>\n      <th>Year_Birth</th>\n      <th>Education</th>\n      <th>Marital_Status</th>\n      <th>Income</th>\n      <th>Kidhome</th>\n      <th>Teenhome</th>\n      <th>Dt_Customer</th>\n      <th>Recency</th>\n      <th>MntWines</th>\n      <th>MntFruits</th>\n      <th>MntMeatProducts</th>\n      <th>MntFishProducts</th>\n      <th>MntSweetProducts</th>\n      <th>MntGoldProds</th>\n      <th>NumDealsPurchases</th>\n      <th>NumWebPurchases</th>\n      <th>NumCatalogPurchases</th>\n      <th>NumStorePurchases</th>\n      <th>NumWebVisitsMonth</th>\n      <th>AcceptedCmp3</th>\n      <th>AcceptedCmp4</th>\n      <th>AcceptedCmp5</th>\n      <th>AcceptedCmp1</th>\n      <th>AcceptedCmp2</th>\n      <th>Complain</th>\n      <th>Z_CostContact</th>\n      <th>Z_Revenue</th>\n      <th>Response</th>\n    </tr>\n  </thead>\n  <tbody>\n    <tr>\n      <th>0</th>\n      <td>5524</td>\n      <td>1957</td>\n      <td>Graduation</td>\n      <td>Single</td>\n      <td>58138.0</td>\n      <td>0</td>\n      <td>0</td>\n      <td>04-09-2012</td>\n      <td>58</td>\n      <td>635</td>\n      <td>88</td>\n      <td>546</td>\n      <td>172</td>\n      <td>88</td>\n      <td>88</td>\n      <td>3</td>\n      <td>8</td>\n      <td>10</td>\n      <td>4</td>\n      <td>7</td>\n      <td>0</td>\n      <td>0</td>\n      <td>0</td>\n      <td>0</td>\n      <td>0</td>\n      <td>0</td>\n      <td>3</td>\n      <td>11</td>\n      <td>1</td>\n    </tr>\n    <tr>\n      <th>1</th>\n      <td>2174</td>\n      <td>1954</td>\n      <td>Graduation</td>\n      <td>Single</td>\n      <td>46344.0</td>\n      <td>1</td>\n      <td>1</td>\n      <td>08-03-2014</td>\n      <td>38</td>\n      <td>11</td>\n      <td>1</td>\n      <td>6</td>\n      <td>2</td>\n      <td>1</td>\n      <td>6</td>\n      <td>2</td>\n      <td>1</td>\n      <td>1</td>\n      <td>2</td>\n      <td>5</td>\n      <td>0</td>\n      <td>0</td>\n      <td>0</td>\n      <td>0</td>\n      <td>0</td>\n      <td>0</td>\n      <td>3</td>\n      <td>11</td>\n      <td>0</td>\n    </tr>\n    <tr>\n      <th>2</th>\n      <td>4141</td>\n      <td>1965</td>\n      <td>Graduation</td>\n      <td>Together</td>\n      <td>71613.0</td>\n      <td>0</td>\n      <td>0</td>\n      <td>21-08-2013</td>\n      <td>26</td>\n      <td>426</td>\n      <td>49</td>\n      <td>127</td>\n      <td>111</td>\n      <td>21</td>\n      <td>42</td>\n      <td>1</td>\n      <td>8</td>\n      <td>2</td>\n      <td>10</td>\n      <td>4</td>\n      <td>0</td>\n      <td>0</td>\n      <td>0</td>\n      <td>0</td>\n      <td>0</td>\n      <td>0</td>\n      <td>3</td>\n      <td>11</td>\n      <td>0</td>\n    </tr>\n    <tr>\n      <th>3</th>\n      <td>6182</td>\n      <td>1984</td>\n      <td>Graduation</td>\n      <td>Together</td>\n      <td>26646.0</td>\n      <td>1</td>\n      <td>0</td>\n      <td>10-02-2014</td>\n      <td>26</td>\n      <td>11</td>\n      <td>4</td>\n      <td>20</td>\n      <td>10</td>\n      <td>3</td>\n      <td>5</td>\n      <td>2</td>\n      <td>2</td>\n      <td>0</td>\n      <td>4</td>\n      <td>6</td>\n      <td>0</td>\n      <td>0</td>\n      <td>0</td>\n      <td>0</td>\n      <td>0</td>\n      <td>0</td>\n      <td>3</td>\n      <td>11</td>\n      <td>0</td>\n    </tr>\n    <tr>\n      <th>4</th>\n      <td>5324</td>\n      <td>1981</td>\n      <td>PhD</td>\n      <td>Married</td>\n      <td>58293.0</td>\n      <td>1</td>\n      <td>0</td>\n      <td>19-01-2014</td>\n      <td>94</td>\n      <td>173</td>\n      <td>43</td>\n      <td>118</td>\n      <td>46</td>\n      <td>27</td>\n      <td>15</td>\n      <td>5</td>\n      <td>5</td>\n      <td>3</td>\n      <td>6</td>\n      <td>5</td>\n      <td>0</td>\n      <td>0</td>\n      <td>0</td>\n      <td>0</td>\n      <td>0</td>\n      <td>0</td>\n      <td>3</td>\n      <td>11</td>\n      <td>0</td>\n    </tr>\n    <tr>\n      <th>...</th>\n      <td>...</td>\n      <td>...</td>\n      <td>...</td>\n      <td>...</td>\n      <td>...</td>\n      <td>...</td>\n      <td>...</td>\n      <td>...</td>\n      <td>...</td>\n      <td>...</td>\n      <td>...</td>\n      <td>...</td>\n      <td>...</td>\n      <td>...</td>\n      <td>...</td>\n      <td>...</td>\n      <td>...</td>\n      <td>...</td>\n      <td>...</td>\n      <td>...</td>\n      <td>...</td>\n      <td>...</td>\n      <td>...</td>\n      <td>...</td>\n      <td>...</td>\n      <td>...</td>\n      <td>...</td>\n      <td>...</td>\n      <td>...</td>\n    </tr>\n    <tr>\n      <th>2235</th>\n      <td>10870</td>\n      <td>1967</td>\n      <td>Graduation</td>\n      <td>Married</td>\n      <td>61223.0</td>\n      <td>0</td>\n      <td>1</td>\n      <td>13-06-2013</td>\n      <td>46</td>\n      <td>709</td>\n      <td>43</td>\n      <td>182</td>\n      <td>42</td>\n      <td>118</td>\n      <td>247</td>\n      <td>2</td>\n      <td>9</td>\n      <td>3</td>\n      <td>4</td>\n      <td>5</td>\n      <td>0</td>\n      <td>0</td>\n      <td>0</td>\n      <td>0</td>\n      <td>0</td>\n      <td>0</td>\n      <td>3</td>\n      <td>11</td>\n      <td>0</td>\n    </tr>\n    <tr>\n      <th>2236</th>\n      <td>4001</td>\n      <td>1946</td>\n      <td>PhD</td>\n      <td>Together</td>\n      <td>64014.0</td>\n      <td>2</td>\n      <td>1</td>\n      <td>10-06-2014</td>\n      <td>56</td>\n      <td>406</td>\n      <td>0</td>\n      <td>30</td>\n      <td>0</td>\n      <td>0</td>\n      <td>8</td>\n      <td>7</td>\n      <td>8</td>\n      <td>2</td>\n      <td>5</td>\n      <td>7</td>\n      <td>0</td>\n      <td>0</td>\n      <td>0</td>\n      <td>1</td>\n      <td>0</td>\n      <td>0</td>\n      <td>3</td>\n      <td>11</td>\n      <td>0</td>\n    </tr>\n    <tr>\n      <th>2237</th>\n      <td>7270</td>\n      <td>1981</td>\n      <td>Graduation</td>\n      <td>Divorced</td>\n      <td>56981.0</td>\n      <td>0</td>\n      <td>0</td>\n      <td>25-01-2014</td>\n      <td>91</td>\n      <td>908</td>\n      <td>48</td>\n      <td>217</td>\n      <td>32</td>\n      <td>12</td>\n      <td>24</td>\n      <td>1</td>\n      <td>2</td>\n      <td>3</td>\n      <td>13</td>\n      <td>6</td>\n      <td>0</td>\n      <td>1</td>\n      <td>0</td>\n      <td>0</td>\n      <td>0</td>\n      <td>0</td>\n      <td>3</td>\n      <td>11</td>\n      <td>0</td>\n    </tr>\n    <tr>\n      <th>2238</th>\n      <td>8235</td>\n      <td>1956</td>\n      <td>Master</td>\n      <td>Together</td>\n      <td>69245.0</td>\n      <td>0</td>\n      <td>1</td>\n      <td>24-01-2014</td>\n      <td>8</td>\n      <td>428</td>\n      <td>30</td>\n      <td>214</td>\n      <td>80</td>\n      <td>30</td>\n      <td>61</td>\n      <td>2</td>\n      <td>6</td>\n      <td>5</td>\n      <td>10</td>\n      <td>3</td>\n      <td>0</td>\n      <td>0</td>\n      <td>0</td>\n      <td>0</td>\n      <td>0</td>\n      <td>0</td>\n      <td>3</td>\n      <td>11</td>\n      <td>0</td>\n    </tr>\n    <tr>\n      <th>2239</th>\n      <td>9405</td>\n      <td>1954</td>\n      <td>PhD</td>\n      <td>Married</td>\n      <td>52869.0</td>\n      <td>1</td>\n      <td>1</td>\n      <td>15-10-2012</td>\n      <td>40</td>\n      <td>84</td>\n      <td>3</td>\n      <td>61</td>\n      <td>2</td>\n      <td>1</td>\n      <td>21</td>\n      <td>3</td>\n      <td>3</td>\n      <td>1</td>\n      <td>4</td>\n      <td>7</td>\n      <td>0</td>\n      <td>0</td>\n      <td>0</td>\n      <td>0</td>\n      <td>0</td>\n      <td>0</td>\n      <td>3</td>\n      <td>11</td>\n      <td>1</td>\n    </tr>\n  </tbody>\n</table>\n<p>2240 rows × 29 columns</p>\n</div>"
     },
     "execution_count": 52,
     "metadata": {},
     "output_type": "execute_result"
    }
   ],
   "source": [
    "customer_data = pd.read_csv(\"marketing_campaign.csv\",sep=\"\\t\")\n",
    "customer_data"
   ]
  },
  {
   "cell_type": "code",
   "execution_count": 53,
   "metadata": {},
   "outputs": [
    {
     "name": "stdout",
     "output_type": "stream",
     "text": [
      "Graduation 1127\n",
      "PhD 486\n",
      "Master 370\n",
      "Basic 54\n",
      "2n Cycle 203\n"
     ]
    }
   ],
   "source": [
    "for ed in customer_data['Education'].unique():\n",
    "    print(ed, len(customer_data[customer_data.Education == ed]))"
   ]
  },
  {
   "cell_type": "code",
   "execution_count": 54,
   "metadata": {},
   "outputs": [],
   "source": [
    "grad = ['PhD', 'Master']\n",
    "df_ug = customer_data[customer_data.Education == 'Graduation'].copy()\n",
    "df_ga = customer_data[customer_data.Education.isin(grad)].copy()\n",
    "df_ug['Income'].fillna(df_ug['Income'].mean(), inplace=True)\n",
    "df_ga['Income'].fillna(df_ga['Income'].mean(), inplace=True)\n",
    "df_ug.iloc[:, 9:15] = df_ug.iloc[:, 9:15].fillna(df_ug.iloc[:, 9:15].mean())\n",
    "df_ga.iloc[:, 9:15] = df_ga.iloc[:, 9:15].fillna(df_ga.iloc[:, 9:15].mean())\n",
    "df_ug['Food'] = df_ug['MntFruits'] + df_ug['MntMeatProducts'] + df_ug['MntFishProducts']\n",
    "df_ug['Other'] = df_ug['MntWines'] + df_ug['MntGoldProds'] + df_ug['MntSweetProducts']\n",
    "df_ga['Food'] = df_ga['MntFruits'] + df_ga['MntMeatProducts'] + df_ga['MntFishProducts']\n",
    "df_ga['Other'] = df_ga['MntWines'] + df_ga['MntGoldProds'] + df_ga['MntSweetProducts']"
   ]
  },
  {
   "cell_type": "code",
   "execution_count": 55,
   "metadata": {},
   "outputs": [],
   "source": [
    "customer_data['Income'] = customer_data['Income'].fillna(customer_data['Income'].mean())\n",
    "customer_data.iloc[:, 9:15] = customer_data.iloc[:, 9:15].fillna(customer_data.iloc[:, 9:15].mean())\n",
    "customer_data['Food'] = customer_data['MntFruits'] + customer_data['MntMeatProducts'] + customer_data['MntFishProducts']\n",
    "customer_data['Other'] = customer_data['MntWines'] + customer_data['MntGoldProds'] + customer_data['MntSweetProducts']"
   ]
  },
  {
   "cell_type": "code",
   "execution_count": 56,
   "metadata": {},
   "outputs": [],
   "source": [
    "income_undergrad = df_ug['Income']\n",
    "income_grad = df_ga['Income']"
   ]
  },
  {
   "cell_type": "code",
   "execution_count": 57,
   "metadata": {},
   "outputs": [
    {
     "data": {
      "text/plain": "0.07324986756612731"
     },
     "execution_count": 57,
     "metadata": {},
     "output_type": "execute_result"
    }
   ],
   "source": [
    "t, p = ttest_ind(income_undergrad, income_grad)\n",
    "p"
   ]
  },
  {
   "cell_type": "code",
   "execution_count": 58,
   "metadata": {},
   "outputs": [
    {
     "data": {
      "text/plain": "0.004432271985434402"
     },
     "execution_count": 58,
     "metadata": {},
     "output_type": "execute_result"
    }
   ],
   "source": [
    "food_ug = df_ug['Food'].to_numpy()\n",
    "food_ga = df_ga['Food'].to_numpy()\n",
    "t, p = ttest_ind(food_ug, food_ga)\n",
    "p"
   ]
  },
  {
   "cell_type": "code",
   "execution_count": 59,
   "metadata": {},
   "outputs": [
    {
     "data": {
      "text/plain": "0.00025639375022679155"
     },
     "execution_count": 59,
     "metadata": {},
     "output_type": "execute_result"
    }
   ],
   "source": [
    "other_ug = df_ug['Other'].to_numpy()\n",
    "other_ga = df_ga['Other'].to_numpy()\n",
    "t, p = ttest_ind(other_ug, other_ga)\n",
    "p"
   ]
  },
  {
   "cell_type": "code",
   "execution_count": 60,
   "metadata": {},
   "outputs": [
    {
     "data": {
      "text/plain": "(3, 2240)"
     },
     "execution_count": 60,
     "metadata": {},
     "output_type": "execute_result"
    }
   ],
   "source": [
    "food = customer_data['Food'].to_numpy()\n",
    "other = customer_data['Other'].to_numpy()\n",
    "income = customer_data['Income'].to_numpy()\n",
    "M = np.array([income, food, other])\n",
    "M.shape"
   ]
  },
  {
   "cell_type": "code",
   "execution_count": 61,
   "metadata": {},
   "outputs": [
    {
     "data": {
      "text/plain": "array([[1.        , 0.59894015, 0.60402655],\n       [0.59894015, 1.        , 0.63239864],\n       [0.60402655, 0.63239864, 1.        ]])"
     },
     "execution_count": 61,
     "metadata": {},
     "output_type": "execute_result"
    }
   ],
   "source": [
    "np.corrcoef(M)"
   ]
  },
  {
   "cell_type": "code",
   "execution_count": 62,
   "metadata": {
    "pycharm": {
     "name": "#%%\n"
    }
   },
   "outputs": [],
   "source": [
    "df = pd.read_csv(\"marketing_campaign.csv\",sep=\"\\t\")"
   ]
  },
  {
   "cell_type": "code",
   "execution_count": 63,
   "metadata": {
    "pycharm": {
     "name": "#%%\n"
    }
   },
   "outputs": [],
   "source": [
    "df[\"age\"] = 2014 - df[\"Year_Birth\"]"
   ]
  },
  {
   "cell_type": "code",
   "execution_count": 64,
   "metadata": {
    "pycharm": {
     "name": "#%%\n"
    }
   },
   "outputs": [],
   "source": [
    "df[\"Education\"] = df[\"Education\"].replace({\"Basic\":1,\"2n Cycle\": 2, \"Graduation\":3,\n",
    "                         \"Master\":4,\"PhD\":5})"
   ]
  },
  {
   "cell_type": "code",
   "execution_count": 65,
   "metadata": {
    "pycharm": {
     "name": "#%%\n"
    }
   },
   "outputs": [],
   "source": [
    "df = df.fillna(df['Income'].mean())\n",
    "df[\"agg_food\"] = df[\"MntFruits\"] + df[\"MntMeatProducts\"] + df[\"MntFishProducts\"]\n",
    "df[\"agg_other\"] = df[\"MntWines\"] + df[\"MntSweetProducts\"] + df[\"MntGoldProds\"]"
   ]
  },
  {
   "cell_type": "code",
   "execution_count": 66,
   "metadata": {
    "pycharm": {
     "name": "#%%\n"
    }
   },
   "outputs": [
    {
     "name": "stdout",
     "output_type": "stream",
     "text": [
      "[[ 0.54907235  0.11133424 -0.81762174  0.91827561  1.41059112]\n",
      " [-0.44248043 -1.01479384  1.05658283 -0.9228785  -1.75179605]\n",
      " [-1.43403321  0.24900732 -0.81762174  0.91827561 -0.66992675]\n",
      " ...\n",
      " [-1.43403321  0.27012977 -0.81762174  0.91827561  0.32872182]\n",
      " [-2.425586   -1.06054657  1.05658283 -0.9228785  -0.75314747]\n",
      " [ 1.54062514 -0.75842016  1.05658283 -0.9228785  -0.17060247]]\n"
     ]
    }
   ],
   "source": [
    "df_temp = df.sample(frac=1).reset_index(drop=True)\n",
    "feature = df_temp[[\"Education\",\"Income\",\"Kidhome\",\"Teenhome\",\"age\"]]\n",
    "label = df_temp[[\"agg_food\",\"agg_other\"]]\n",
    "feature_train = feature.iloc[:1600]\n",
    "feature_test = feature.iloc[1600:]\n",
    "label_train = label.iloc[:1600]\n",
    "label_test = label.iloc[1600:]\n",
    "scaler= StandardScaler()\n",
    "feature_train = scaler.fit_transform(feature_train)\n",
    "feature_test = scaler.fit_transform(feature_test)\n",
    "print(feature_train)"
   ]
  },
  {
   "cell_type": "code",
   "execution_count": 67,
   "metadata": {
    "pycharm": {
     "name": "#%%\n"
    }
   },
   "outputs": [],
   "source": [
    "poly = PolynomialFeatures(degree=2)\n",
    "feature_train = poly.fit_transform(feature_train)\n",
    "feature_test = poly.fit_transform(feature_test)"
   ]
  },
  {
   "cell_type": "code",
   "execution_count": 68,
   "metadata": {
    "pycharm": {
     "name": "#%%\n"
    }
   },
   "outputs": [
    {
     "name": "stdout",
     "output_type": "stream",
     "text": [
      "['1', 'Education', 'Income', 'Kidhome', 'Teenhome', 'age', 'Education^2', 'Education Income', 'Education Kidhome', 'Education Teenhome', 'Education age', 'Income^2', 'Income Kidhome', 'Income Teenhome', 'Income age', 'Kidhome^2', 'Kidhome Teenhome', 'Kidhome age', 'Teenhome^2', 'Teenhome age', 'age^2']\n"
     ]
    }
   ],
   "source": [
    "print(poly.get_feature_names([\"Education\",\"Income\",\"Kidhome\",\"Teenhome\",\"age\"]))"
   ]
  },
  {
   "cell_type": "code",
   "execution_count": 69,
   "metadata": {
    "pycharm": {
     "name": "#%%\n"
    }
   },
   "outputs": [
    {
     "name": "stdout",
     "output_type": "stream",
     "text": [
      "      agg_food  agg_other\n",
      "0           80       1294\n",
      "1           19         23\n",
      "2           76        721\n",
      "3           36         52\n",
      "4            7         48\n",
      "...        ...        ...\n",
      "1595       801        436\n",
      "1596        16         43\n",
      "1597       302        769\n",
      "1598        43         37\n",
      "1599        17         29\n",
      "\n",
      "[1600 rows x 2 columns]\n"
     ]
    }
   ],
   "source": [
    "feature_train = pd.DataFrame(feature_train)\n",
    "feature_test = pd.DataFrame(feature_test)\n",
    "print(label_train)\n",
    "label_train_1 = label_train.iloc[:,0]\n",
    "label_train_2 = label_train.iloc[:,1]\n",
    "label_test_1 = label_test.iloc[:,0]\n",
    "label_test_2 = label_test.iloc[:,1]"
   ]
  },
  {
   "cell_type": "code",
   "execution_count": 70,
   "metadata": {
    "pycharm": {
     "name": "#%%\n"
    }
   },
   "outputs": [
    {
     "name": "stdout",
     "output_type": "stream",
     "text": [
      "       0         1         2         3         4         5         6   \\\n",
      "0     1.0  0.549072  0.111334 -0.817622  0.918276  1.410591  0.301480   \n",
      "1     1.0 -0.442480 -1.014794  1.056583 -0.922878 -1.751796  0.195789   \n",
      "2     1.0 -1.434033  0.249007 -0.817622  0.918276 -0.669927  2.056451   \n",
      "3     1.0 -2.425586 -1.431170  1.056583  0.918276  0.911267  5.883467   \n",
      "4     1.0 -0.442480 -0.510948  1.056583 -0.922878 -1.169251  0.195789   \n",
      "...   ...       ...       ...       ...       ...       ...       ...   \n",
      "1595  1.0 -0.442480  1.176698 -0.817622  0.918276 -0.503485  0.195789   \n",
      "1596  1.0  0.549072 -0.672195  1.056583 -0.922878 -0.170602  0.301480   \n",
      "1597  1.0 -1.434033  0.270130 -0.817622  0.918276  0.328722  2.056451   \n",
      "1598  1.0 -2.425586 -1.060547  1.056583 -0.922878 -0.753147  5.883467   \n",
      "1599  1.0  1.540625 -0.758420  1.056583 -0.922878 -0.170602  2.373526   \n",
      "\n",
      "            7         8         9         10        11        12        13  \\\n",
      "0     0.061131 -0.448933  0.504200  0.774517  0.012395 -0.091029  0.102236   \n",
      "1     0.449026 -0.467517  0.408356  0.775135  1.029807 -1.072214  0.936531   \n",
      "2    -0.357085  1.172497 -1.316838  0.960697  0.062005 -0.203594  0.228657   \n",
      "3     3.471426 -2.562833 -2.227356 -2.210356  2.048248 -1.512150 -1.314209   \n",
      "4     0.226085 -0.467517  0.408356  0.517371  0.261068 -0.539859  0.471543   \n",
      "...        ...       ...       ...       ...       ...       ...       ...   \n",
      "1595 -0.520666  0.361782 -0.406319  0.222782  1.384617 -0.962094  1.080533   \n",
      "1596 -0.369084  0.580140 -0.506727 -0.093673  0.451847 -0.710230  0.620355   \n",
      "1597 -0.387375  1.172497 -1.316838 -0.471398  0.072970 -0.220864  0.248054   \n",
      "1598  2.572447 -2.562833  2.238521  1.826824  1.124759 -1.120555  0.978756   \n",
      "1599 -1.168441  1.627798 -1.421810 -0.262834  0.575201 -0.801334  0.699930   \n",
      "\n",
      "            14        15        16        17        18        19        20  \n",
      "0     0.157047  0.668505 -0.750802 -1.153330  0.843230  1.295311  1.989767  \n",
      "1     1.777712  1.116367 -0.975098 -1.850918  0.851705  1.616695  3.068789  \n",
      "2    -0.166817  0.668505 -0.750802  0.547747  0.843230 -0.615177  0.448802  \n",
      "3    -1.304178  1.116367  0.970234  0.962829  0.843230  0.836794  0.830407  \n",
      "4     0.597427  1.116367 -0.975098 -1.235411  0.851705  1.079077  1.367148  \n",
      "...        ...       ...       ...       ...       ...       ...       ...  \n",
      "1595 -0.592450  0.668505 -0.750802  0.411661  0.843230 -0.462338  0.253497  \n",
      "1596  0.114678  1.116367 -0.975098 -0.180256  0.851705  0.157445  0.029105  \n",
      "1597  0.088798  0.668505 -0.750802 -0.268770  0.843230  0.301857  0.108058  \n",
      "1598  0.798748  1.116367 -0.975098 -0.795763  0.851705  0.695064  0.567231  \n",
      "1599  0.129388  1.116367 -0.975098 -0.180256  0.851705  0.157445  0.029105  \n",
      "\n",
      "[1600 rows x 21 columns]\n",
      "The training set R^2 score, testing set R^2 score, and testing set MAE for food sector are shown below:\n",
      "0.6285470009002749\n",
      "0.6903476809688858\n",
      "110.29535982441564\n",
      "The training set R^2 score, testing set R^2 score, and testing set MAE for other sector are shown below:\n",
      "0.5483793488739379\n",
      "0.5808400204307218\n",
      "178.33814001728427\n"
     ]
    }
   ],
   "source": [
    "\n",
    "print(feature_train)\n",
    "df_coef = pd.DataFrame(columns=[poly.get_feature_names([\"Education\",\"Income\",\"Kidhome\",\"Teenhome\",\"age\"])])\n",
    "reg = Ridge(alpha=300).fit(feature_train, label_train_1)\n",
    "print(\"The training set R^2 score, testing set R^2 score, and testing set MAE for food sector are shown below:\")\n",
    "print(reg.score(feature_train, label_train_1))\n",
    "print(reg.score(feature_test, label_test_1))\n",
    "print(mean_absolute_error(label_test_1,reg.predict(feature_test)))\n",
    "df_coef = df_coef.append(pd.DataFrame(reg.coef_.reshape(1,-1), columns=list(df_coef), index=[\"food\"]))\n",
    "\n",
    "reg = Ridge(alpha=300).fit(feature_train, label_train_2)\n",
    "print(\"The training set R^2 score, testing set R^2 score, and testing set MAE for other sector are shown below:\")\n",
    "print(reg.score(feature_train, label_train_2))\n",
    "print(reg.score(feature_test, label_test_2))\n",
    "print(mean_absolute_error(label_test_2,reg.predict(feature_test)))\n",
    "df_coef = df_coef.append(pd.DataFrame(reg.coef_.reshape(1,-1), columns=list(df_coef), index=[\"other\"]))"
   ]
  },
  {
   "cell_type": "code",
   "execution_count": 71,
   "metadata": {
    "pycharm": {
     "name": "#%%\n"
    }
   },
   "outputs": [
    {
     "name": "stdout",
     "output_type": "stream",
     "text": [
      "         1  Education      Income     Kidhome   Teenhome       age  \\\n",
      "food   0.0 -13.327560  141.779490  -72.540013 -69.290691 -6.909167   \n",
      "other  0.0  27.303132  203.073008 -102.916359 -20.332452  4.649499   \n",
      "\n",
      "      Education^2 Education Income Education Kidhome Education Teenhome  \\\n",
      "food    -8.676481        -3.910464          1.070941          -1.015729   \n",
      "other    3.758612       -12.760709        -28.218603          -2.867932   \n",
      "\n",
      "      Education age  Income^2 Income Kidhome Income Teenhome Income age  \\\n",
      "food      -0.406269 -4.975157     -58.926733      -22.069669 -12.277175   \n",
      "other     -3.290728 -8.781122     -21.843909       -7.843541   8.508549   \n",
      "\n",
      "      Kidhome^2 Kidhome Teenhome Kidhome age Teenhome^2 Teenhome age     age^2  \n",
      "food  -1.729205        33.631456    3.748476  19.856623    -4.015083  2.124565  \n",
      "other  7.715261         2.911204    9.570800  10.471169     0.999681 -1.638216  \n"
     ]
    }
   ],
   "source": [
    "pd.set_option('max_columns', None)\n",
    "print(df_coef)\n"
   ]
  },
  {
   "cell_type": "code",
   "execution_count": 72,
   "metadata": {
    "pycharm": {
     "name": "#%%\n"
    }
   },
   "outputs": [
    {
     "name": "stdout",
     "output_type": "stream",
     "text": [
      "Index(['Education', 'Income', 'Kidhome', 'Teenhome', 'Recency',\n",
      "       'NumDealsPurchases', 'NumWebPurchases', 'NumCatalogPurchases',\n",
      "       'NumStorePurchases', 'NumWebVisitsMonth', 'AcceptedCmp3',\n",
      "       'AcceptedCmp4', 'AcceptedCmp5', 'AcceptedCmp1', 'AcceptedCmp2',\n",
      "       'Response', 'age', 'diff_days', 'Absurd', 'Alone', 'Divorced',\n",
      "       'Married', 'Single', 'Together', 'Widow', 'YOLO'],\n",
      "      dtype='object')\n"
     ]
    }
   ],
   "source": [
    "df_temp = df.sample(frac=1).reset_index(drop=True)\n",
    "df_temp['diff_days'] = pd.to_datetime('20141231', format='%Y%m%d', errors='ignore') - pd.to_datetime(df['Dt_Customer'])\n",
    "df_temp['diff_days']=df_temp['diff_days']/np.timedelta64(1,'D')\n",
    "\n",
    "feature = df_temp.drop(['agg_food', 'agg_other', \"MntFruits\", 'MntMeatProducts',\n",
    "                        \"MntFishProducts\",\"MntWines\",\"MntGoldProds\",\"ID\",\"Year_Birth\",\n",
    "                        \"Z_Revenue\",\"Complain\",\"Z_CostContact\",\"Marital_Status\",\"Dt_Customer\",\"MntSweetProducts\"], axis=1)\n",
    "label = df_temp[[\"agg_food\",\"agg_other\"]]\n",
    "dummy1 = pd.get_dummies(df_temp['Marital_Status'])\n",
    "feature = pd.concat([feature, dummy1], axis=1)\n",
    "print(feature.columns)\n",
    "\n",
    "feature_train = feature.iloc[:1600]\n",
    "feature_test = feature.iloc[1600:]\n",
    "label_train = label.iloc[:1600]\n",
    "label_test = label.iloc[1600:]\n",
    "scaler= StandardScaler()\n",
    "feature_train = scaler.fit_transform(feature_train)\n",
    "feature_test = scaler.fit_transform(feature_test)\n",
    "\n",
    "inputs = keras.Input(shape=(26,))\n",
    "x = layers.Dense(32, activation=\"relu\")(inputs)\n",
    "x = layers.Dense(32, activation=\"relu\")(x)\n",
    "x = layers.Dense(32, activation=\"relu\")(x)\n",
    "\n",
    "x = layers.Dense(16, activation=\"relu\")(x)\n",
    "x = layers.Dense(8, activation=\"relu\")(x)\n",
    "outputs = layers.Dense(2)(x)\n",
    "\n",
    "model = keras.Model(inputs=inputs, outputs=outputs, name=\"mnist_model\")\n",
    "\n",
    "model.compile(\n",
    "    loss=\"mae\",\n",
    "    optimizer=\"adam\",\n",
    "    metrics=\"mae\",\n",
    ")"
   ]
  },
  {
   "cell_type": "code",
   "execution_count": 76,
   "metadata": {
    "pycharm": {
     "name": "#%%\n"
    }
   },
   "outputs": [
    {
     "name": "stdout",
     "output_type": "stream",
     "text": [
      "Epoch 1/20\n",
      "20/20 [==============================] - 0s 2ms/step - loss: 113.2100 - mae: 113.2100 - val_loss: 113.8826 - val_mae: 113.8826\b\b\b\b\b\b\b\b\b\b\b\b\b\b\b\b\b\b\b\b\b\b\b\b\b\b\b\b\b\b\b\b\b\b\b\b\n",
      "Epoch 2/20\n",
      "20/20 [==============================] - 0s 1ms/step - loss: 112.8233 - mae: 112.8233 - val_loss: 112.7265 - val_mae: 112.7265\b\b\b\b\b\b\b\b\b\b\b\b\b\b\b\b\b\b\b\b\b\b\b\b\b\b\b\b\b\b\b\b\b\b\b\b\n",
      "Epoch 3/20\n",
      "20/20 [==============================] - 0s 1ms/step - loss: 112.4782 - mae: 112.4782 - val_loss: 112.3538 - val_mae: 112.3538\b\b\b\b\b\b\b\b\b\b\b\b\b\b\b\b\b\b\b\b\b\b\b\b\b\b\b\b\b\b\b\b\n",
      "Epoch 4/20\n",
      "20/20 [==============================] - 0s 1ms/step - loss: 111.4998 - mae: 111.4998 - val_loss: 111.9341 - val_mae: 111.9341\b\b\b\b\b\b\b\b\b\b\b\b\b\b\b\b\b\b\b\b\b\b\b\b\b\b\b\b\b\b\b\b\b\b\b\b\n",
      "Epoch 5/20\n",
      "20/20 [==============================] - 0s 1ms/step - loss: 110.7254 - mae: 110.7254 - val_loss: 111.9812 - val_mae: 111.9812\b\b\b\b\b\b\b\b\b\b\b\b\b\b\b\b\b\b\b\b\b\b\b\b\b\b\b\b\b\b\b\b\b\b\b\b\n",
      "Epoch 6/20\n",
      "20/20 [==============================] - 0s 1ms/step - loss: 110.2967 - mae: 110.2967 - val_loss: 111.0763 - val_mae: 111.0763\b\b\b\b\b\b\b\b\b\b\b\b\b\b\b\b\b\b\b\b\b\b\b\b\b\b\b\b\b\b\b\b\b\b\b\b\n",
      "Epoch 7/20\n",
      "20/20 [==============================] - 0s 1ms/step - loss: 109.1756 - mae: 109.1756 - val_loss: 110.5936 - val_mae: 110.5936\b\b\b\b\b\b\b\b\b\b\b\b\b\b\b\b\b\b\b\b\b\b\b\b\b\b\b\b\b\b\b\b\b\b\b\b\n",
      "Epoch 8/20\n",
      "20/20 [==============================] - 0s 1ms/step - loss: 108.6547 - mae: 108.6547 - val_loss: 109.9647 - val_mae: 109.9647\b\b\b\b\b\b\b\b\b\b\b\b\b\b\b\b\b\b\b\b\b\b\b\b\b\b\b\b\b\b\b\b\n",
      "Epoch 9/20\n",
      "20/20 [==============================] - 0s 1ms/step - loss: 107.6970 - mae: 107.6970 - val_loss: 109.1108 - val_mae: 109.1108\b\b\b\b\b\b\b\b\b\b\b\b\b\b\b\b\b\b\b\b\b\b\b\b\b\b\b\b\b\b\b\b\n",
      "Epoch 10/20\n",
      "20/20 [==============================] - 0s 1ms/step - loss: 106.6125 - mae: 106.6125 - val_loss: 108.0740 - val_mae: 108.0740\b\b\b\b\b\b\b\b\b\b\b\b\b\b\b\b\b\b\b\b\b\b\b\b\b\b\b\b\b\b\b\b\b\b\b\b\n",
      "Epoch 11/20\n",
      "20/20 [==============================] - 0s 1ms/step - loss: 105.7823 - mae: 105.7823 - val_loss: 107.0217 - val_mae: 107.0217\b\b\b\b\b\b\b\b\b\b\b\b\b\b\b\b\b\b\b\b\b\b\b\b\b\b\b\b\b\b\b\b\b\b\b\b\n",
      "Epoch 12/20\n",
      "20/20 [==============================] - 0s 1ms/step - loss: 104.6072 - mae: 104.6072 - val_loss: 106.6408 - val_mae: 106.6408\b\b\b\b\b\b\b\b\b\b\b\b\b\b\b\b\b\b\b\b\b\b\b\b\b\b\b\b\b\b\b\b\b\b\b\b\n",
      "Epoch 13/20\n",
      "20/20 [==============================] - 0s 1ms/step - loss: 103.6189 - mae: 103.6189 - val_loss: 105.2551 - val_mae: 105.2551\b\b\b\b\b\b\b\b\b\b\b\b\b\b\b\b\b\b\b\b\b\b\b\b\b\b\b\b\b\b\b\b\n",
      "Epoch 14/20\n",
      "20/20 [==============================] - 0s 1ms/step - loss: 102.2744 - mae: 102.2744 - val_loss: 104.3736 - val_mae: 104.3736\b\b\b\b\b\b\b\b\b\b\b\b\b\b\b\b\b\b\b\b\b\b\b\b\b\b\b\b\b\b\b\b\n",
      "Epoch 15/20\n",
      "20/20 [==============================] - 0s 1ms/step - loss: 101.6978 - mae: 101.6978 - val_loss: 104.3221 - val_mae: 104.3221\b\b\b\b\b\b\b\b\b\b\b\b\b\b\b\b\b\b\b\b\b\b\b\b\b\b\b\b\b\b\b\b\b\b\b\b\n",
      "Epoch 16/20\n",
      "20/20 [==============================] - 0s 1ms/step - loss: 100.6459 - mae: 100.6459 - val_loss: 103.6086 - val_mae: 103.6086\b\b\b\b\b\b\b\b\b\b\b\b\b\b\b\b\b\b\b\b\b\b\b\b\b\b\b\b\b\b\b\b\b\b\b\b\n",
      "Epoch 17/20\n",
      "20/20 [==============================] - 0s 1ms/step - loss: 99.9103 - mae: 99.9103 - val_loss: 102.1562 - val_mae: 102.1562\b\b\b\b\b\b\b\b\b\b\b\b\b\b\b\b\b\b\b\b\b\b\b\b\b\b\b\b\b\b\b\b\b\b\b\b\b\b\n",
      "Epoch 18/20\n",
      "20/20 [==============================] - 0s 1ms/step - loss: 99.1328 - mae: 99.1328 - val_loss: 101.6479 - val_mae: 101.6479\b\b\b\b\b\b\b\b\b\b\b\b\b\b\b\b\b\b\b\b\b\b\b\b\b\b\b\b\b\b\b\b\b\b\b\b\b\b\n",
      "Epoch 19/20\n",
      "20/20 [==============================] - 0s 1ms/step - loss: 98.2203 - mae: 98.2203 - val_loss: 100.7642 - val_mae: 100.7642\b\b\b\b\b\b\b\b\b\b\b\b\b\b\b\b\b\b\b\b\b\b\b\b\b\b\b\b\b\b\b\b\b\b\n",
      "Epoch 20/20\n",
      "20/20 [==============================] - 0s 1ms/step - loss: 97.5131 - mae: 97.5131 - val_loss: 100.5006 - val_mae: 100.5006\b\b\b\b\b\b\b\b\b\b\b\b\b\b\b\b\b\b\b\b\b\b\b\b\b\b\b\b\b\b\b\b\b\b\n"
     ]
    }
   ],
   "source": [
    "history = model.fit(feature_train, label_train, batch_size=64, epochs=20, validation_split=0.2)"
   ]
  },
  {
   "cell_type": "code",
   "execution_count": 77,
   "metadata": {
    "pycharm": {
     "name": "#%%\n"
    }
   },
   "outputs": [
    {
     "name": "stdout",
     "output_type": "stream",
     "text": [
      "The r^2 scores and MAE for the testing set is : \n",
      "0.7383104683578654\n",
      "100.70975775644183\n"
     ]
    }
   ],
   "source": [
    "#plot_model(model, to_file='model_plot.png', show_shapes=True, show_layer_names=True)\n",
    "print(\"The r^2 scores and MAE for the testing set is : \")\n",
    "print(r2_score(label_test,model.predict(feature_test)))\n",
    "print(mean_absolute_error(label_test,model.predict(feature_test)))"
   ]
  },
  {
   "cell_type": "code",
   "execution_count": 75,
   "metadata": {
    "pycharm": {
     "name": "#%%\n"
    }
   },
   "outputs": [
    {
     "name": "stdout",
     "output_type": "stream",
     "text": [
      "379.477062500005\n",
      "agg_food     286.060806\n",
      "agg_other    378.950805\n",
      "dtype: float64\n"
     ]
    }
   ],
   "source": [
    "a = np.mean(label_train)\n",
    "sum = 0\n",
    "for i in label.to_numpy():\n",
    "    t = i - a\n",
    "    for j in t:\n",
    "        if (j > 0):\n",
    "            sum = sum + j\n",
    "        else:\n",
    "            sum = sum - j\n",
    "print(sum/(2*len(label_train)))\n",
    "print(np.std(label))\n",
    "\n"
   ]
  }
 ],
 "metadata": {
  "kernelspec": {
   "display_name": "Python 3",
   "language": "python",
   "name": "python3"
  },
  "language_info": {
   "codemirror_mode": {
    "name": "ipython",
    "version": 3
   },
   "file_extension": ".py",
   "mimetype": "text/x-python",
   "name": "python",
   "nbconvert_exporter": "python",
   "pygments_lexer": "ipython3",
   "version": "3.7.9"
  }
 },
 "nbformat": 4,
 "nbformat_minor": 1
}