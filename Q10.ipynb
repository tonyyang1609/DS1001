{
 "cells": [
  {
   "cell_type": "code",
   "execution_count": 1,
   "metadata": {
    "collapsed": true
   },
   "outputs": [],
   "source": [
    "from scipy import stats\n",
    "import numpy as np\n",
    "import pandas as pd\n",
    "df = pd.read_csv(\"movieReplicationSet.csv\")"
   ]
  },
  {
   "cell_type": "code",
   "execution_count": 2,
   "outputs": [
    {
     "name": "stdout",
     "output_type": "stream",
     "text": [
      "[['Star Wars: Episode IV - A New Hope (1977)', 'Star Wars: Episode II - Attack of the Clones (2002)', 'Star Wars: Episode V - The Empire Strikes Back (1980)', 'Star Wars: Episode 1 - The Phantom Menace (1999)', 'Star Wars: Episode VII - The Force Awakens (2015)', 'Star Wars: Episode VI - The Return of the Jedi (1983)'], [\"Harry Potter and the Sorcerer's Stone (2001)\", 'Harry Potter and the Deathly Hallows: Part 2 (2011)', 'Harry Potter and the Goblet of Fire (2005)', 'Harry Potter and the Chamber of Secrets (2002)'], ['The Matrix Revolutions (2003)', 'The Matrix Reloaded (2003)', 'The Matrix (1999)'], ['Indiana Jones and the Last Crusade (1989)', 'Indiana Jones and the Temple of Doom (1984)', 'Indiana Jones and the Raiders of the Lost Ark (1981)', 'Indiana Jones and the Kingdom of the Crystal Skull (2008)'], ['The Lost World: Jurassic Park (1997)', 'Jurassic Park III (2001)', 'Jurassic Park (1993)'], [\"Pirates of the Caribbean: Dead Man's Chest (2006)\", \"Pirates of the Caribbean: At World's End (2007)\", 'Pirates of the Caribbean: The Curse of the Black Pearl (2003)'], ['Toy Story 2 (1999)', 'Toy Story 3 (2010)', 'Toy Story (1995)'], ['Batman & Robin (1997)', 'Batman (1989)', 'Batman: The Dark Knight (2008)']]\n"
     ]
    }
   ],
   "source": [
    "import re\n",
    "franchise = []\n",
    "\n",
    "for i,v in enumerate([\"Star Wars\",\"Harry Potter\",\"The Matrix\",\"Indiana Jones\"\n",
    "                         ,\"Jurassic Park\",\"Pirates of the Caribbean\",\"Toy Story\"\n",
    "                      ,\"Batman\"\n",
    "                      ]):\n",
    "    buf = []\n",
    "    for string in df.columns[:400]:\n",
    "        r1 = re.findall(\".*\"+v+\".*\",string)\n",
    "        if(r1!=[]):\n",
    "            buf.append(r1[0])\n",
    "    franchise.append(buf)\n",
    "print(franchise)"
   ],
   "metadata": {
    "collapsed": false,
    "pycharm": {
     "name": "#%%\n"
    }
   }
  },
  {
   "cell_type": "code",
   "execution_count": 17,
   "outputs": [
    {
     "name": "stdout",
     "output_type": "stream",
     "text": [
      "[[nan, nan, nan, nan, 0.5, 2.5, nan, 2.0, nan, 3.0, 2.0, nan, nan, nan, nan, nan, nan, nan, 4.0, nan, 2.5, nan, 3.5, nan, 2.0, nan, nan, nan, 3.0, 3.0, nan, 3.5, nan, 3.5, nan, 1.5, nan, nan, nan, nan, nan, 2.5, nan, 2.0, nan, 1.5, nan, nan, nan, nan, nan, nan, nan, nan, nan, 3.5, nan, nan, nan, nan, nan, 2.5, 0.5, nan, nan, nan, nan, nan, nan, nan, 1.5, nan, 0.5, nan, 3.5, 1.0, 2.0, nan, nan, 3.0, nan, 2.5, nan, nan, nan, nan, 3.0, nan, 2.5, 2.5, nan, nan, 3.5, 2.0, 1.0, 2.0, nan, nan, nan, nan, nan, nan, 2.5, nan, nan, nan, nan, nan, nan, nan, 0.5, 2.5, nan, nan, nan, 2.0, nan, nan, nan, nan, nan, nan, 1.5, nan, nan, 1.0, nan, nan, 2.0, nan, nan, nan, nan, nan, nan, nan, 2.5, 3.0, nan, nan, nan, nan, 3.0, nan, 2.0, 4.0, nan, nan, nan, nan, nan, nan, nan, 2.5, nan, 0.5, nan, nan, 3.5, nan, 0.0, 0.5, nan, 2.5, 3.0, nan, nan, nan, nan, nan, nan, nan, 2.0, 0.5, 2.0, nan, nan, 2.0, 2.5, nan, nan, nan, nan, nan, 0.0, nan, nan, 2.5, 2.0, 3.0, nan, 3.0, nan, nan, nan, nan, 3.0, nan, nan, nan, 1.5, nan, 1.0, nan, nan, 3.0, nan, nan, 4.0, nan, nan, nan, nan, 4.0, nan, nan, 4.0, nan, nan, nan, nan, nan, nan, 3.0, 2.0, nan, nan, 2.5, 2.5, 4.0, 2.0, nan, nan, 3.0, nan, 4.0, 3.0, nan, nan, nan, 3.0, nan, nan, nan, 2.0, nan, nan, nan, 1.5, nan, nan, 3.0, nan, nan, 4.0, nan, nan, nan, nan, nan, nan, 4.0, 3.5, nan, nan, 3.0, nan, 0.5, nan, nan, nan, nan, nan, nan, 2.0, 3.0, 1.5, nan, nan, 1.5, nan, nan, nan, nan, nan, 3.0, nan, nan, nan, 0.5, 1.0, 3.0, nan, nan, nan, nan, 2.0, nan, 3.0, nan, nan, 1.0, 3.0, nan, nan, nan, nan, nan, nan, nan, 3.0, nan, 4.0, nan, nan, 2.0, nan, nan, 3.0, nan, nan, nan, nan, nan, nan, nan, nan, nan, nan, nan, nan, nan, nan, nan, 2.0, nan, nan, 0.5, nan, nan, 3.0, nan, 4.0, nan, nan, nan, 2.0, 1.0, nan, nan, 3.5, nan, nan, nan, nan, nan, 1.0, 1.0, 0.5, nan, nan, 1.5, nan, nan, 2.0, nan, 3.0, nan, 2.0, nan, nan, nan, nan, nan, nan, 2.0, nan, 2.5, nan, nan, 2.5, nan, nan, nan, nan, nan, 3.5, nan, nan, nan, nan, nan, 2.0, nan, nan, 2.0, 1.0, nan, nan, nan, nan, nan, 1.5, nan, nan, nan, 2.0, nan, nan, 3.5, nan, nan, nan, 4.0, nan, nan, 3.5, nan, 3.5, 1.5, nan, nan, nan, nan, nan, 3.0, nan, nan, nan, 1.0, 0.0, 2.0, 2.5, nan, nan, nan, nan, nan, nan, nan, 3.0, nan, nan, 4.0, nan, nan, 3.0, nan, nan, nan, nan, nan, nan, 3.0, 4.0, nan, nan, nan, 2.0, nan, 1.0, nan, nan, nan, nan, nan, nan, nan, nan, nan, 1.0, nan, nan, nan, nan, nan, nan, nan, nan, nan, 4.0, nan, nan, nan, nan, nan, nan, nan, nan, 2.0, nan, nan, nan, nan, nan, nan, nan, nan, 2.5, 4.0, nan, nan, nan, nan, nan, nan, 3.0, nan, nan, nan, nan, nan, nan, 4.0, nan, nan, nan, 1.5, nan, nan, 0.5, nan, nan, nan, nan, 3.0, nan, nan, nan, nan, 1.0, nan, nan, nan, 3.0, 3.0, nan, 2.5, 1.0, 1.5, 4.0, nan, 3.5, nan, nan, nan, nan, nan, 2.5, nan, 4.0, nan, nan, 3.0, nan, nan, nan, 3.0, nan, nan, 1.0, nan, nan, 1.0, 2.5, nan, 0.5, nan, nan, 1.0, nan, nan, 3.5, nan, 3.5, 0.5, nan, nan, nan, nan, 2.5, nan, 1.5, nan, 2.5, 2.0, 3.0, 4.0, nan, nan, nan, 3.0, nan, nan, 1.5, nan, 1.0, 0.0, nan, nan, nan, 1.0, 2.5, nan, nan, nan, 0.5, 2.5, nan, 2.0, nan, nan, 4.0, nan, nan, nan, nan, nan, 2.5, nan, 1.0, nan, nan, nan, nan, nan, nan, nan, nan, nan, nan, nan, 0.0, nan, nan, nan, nan, nan, 1.5, nan, nan, nan, nan, nan, nan, nan, 2.5, 3.0, nan, nan, nan, 2.0, 1.5, nan, 3.5, 3.0, 4.0, nan, nan, nan, nan, 1.5, nan, nan, nan, 1.5, nan, 3.0, 0.5, nan, nan, nan, nan, nan, nan, nan, nan, nan, nan, nan, nan, nan, 2.5, nan, 2.0, 3.5, nan, nan, nan, nan, nan, nan, nan, nan, nan, nan, nan, 3.5, 2.0, nan, 1.0, 0.5, nan, nan, nan, nan, nan, nan, nan, nan, nan, nan, nan, 3.5, nan, 3.0, nan, nan, nan, nan, 3.0, 3.5, nan, 0.0, nan, 2.0, 1.0, 2.5, nan, nan, nan, nan, nan, nan, nan, 3.5, nan, nan, 2.5, 1.5, nan, nan, 3.0, nan, nan, nan, 0.5, 2.0, 3.0, 4.0, nan, nan, nan, nan, 3.5, nan, nan, nan, nan, nan, nan, nan, 1.0, nan, nan, nan, nan, nan, nan, 2.5, 3.5, 1.5, nan, 1.0, nan, 1.0, nan, nan, nan, 3.5, 0.5, 3.0, 2.0, nan, nan, nan, nan, nan, nan, nan, nan, nan, nan, nan, 4.0, nan, nan, nan, 2.5, nan, nan, nan, 4.0, nan, 1.5, 4.0, 3.0, nan, nan, nan, nan, 2.0, nan, 4.0, nan, 0.0, nan, nan, nan, 2.0, nan, nan, nan, nan, nan, nan, nan, nan, 0.0, nan, 3.0, nan, nan, nan, nan, nan, nan, 3.0, nan, 1.5, 1.5, nan, nan, nan, 3.0, 0.5, 2.5, nan, nan, nan, nan, 2.0, nan, nan, 2.5, nan, nan, 3.5, 3.0, nan, 1.0, nan, 2.0, nan, nan, 2.0, 3.5, 3.0, 2.5, nan, nan, nan, 3.0, 1.5, nan, nan, 2.5, 1.5, nan, 2.0, nan, nan, nan, 4.0, 4.0, nan, 2.5, nan, nan, nan, 1.0, nan, 4.0, 3.5, 2.0, nan, nan, nan, 4.0, nan, 3.0, nan, nan, nan, 3.0, nan, nan, nan, nan, nan, nan, nan, 2.0, nan, 4.0, 2.0, 0.5, 1.5, nan, nan, 2.0, 3.5, nan, 0.0, nan, nan, nan, 2.5, nan, nan, nan, 2.0, nan, nan, nan, nan, nan, nan, nan, 3.0, nan, nan, nan, 1.5, nan, nan, nan, 2.5, 3.0, nan, 1.0, nan, nan, nan, nan, nan, nan, nan, 0.0, nan, 4.0, 3.5, nan, 2.5, nan, nan, 2.5, nan, nan, nan, nan, nan, nan, 2.0, nan, nan, nan, nan, nan, nan, nan, 4.0, 3.5, nan, nan, nan, 1.5, 3.5, 3.0, nan, nan, 2.0, nan, 0.5, nan, nan, 1.0, nan, nan, 2.5, nan, 1.0, nan, nan, 4.0, nan, 4.0, 3.0, nan, nan, nan, nan, 3.5, nan, nan, nan, 2.5, nan, 3.5, nan, nan, nan, 3.5, nan, nan, 2.0, 1.5, 3.5, nan, nan, nan, 1.5, 4.0, 4.0, nan, nan, nan, nan, nan, nan, nan, nan, nan, nan, nan, 1.0, nan, nan, nan, 2.0, nan, nan, nan, 2.5, nan, nan, nan, nan, 3.0, nan, nan, nan, 2.5, nan, nan, 0.0, nan, nan, nan, nan, nan, nan, 1.5, 3.0, nan, 4.0, nan, nan, nan, nan, nan, 3.0, nan, nan, 0.5, 1.5, 2.0, 2.0, nan, nan, nan, nan, nan, 3.0, nan, nan, nan], [nan, nan, nan, nan, 1.0, 2.5, 0.0, 2.5, nan, nan, nan, nan, 1.5, nan, 4.0, nan, nan, nan, 4.0, nan, 2.5, nan, 3.5, nan, 0.5, nan, nan, nan, 3.5, 4.0, nan, 2.5, nan, 3.5, nan, 2.5, nan, nan, nan, nan, nan, nan, nan, 2.5, nan, nan, nan, nan, nan, nan, nan, nan, nan, nan, nan, 3.5, nan, 1.0, 4.0, nan, 1.5, 3.5, nan, 3.0, 1.5, nan, nan, 3.0, nan, nan, 3.0, nan, 1.0, nan, 3.5, 2.0, 2.0, nan, nan, 3.5, nan, 3.0, nan, nan, 3.5, nan, 3.5, nan, nan, 0.0, nan, nan, 3.5, 2.0, 3.0, 3.5, nan, 4.0, 4.0, nan, nan, 3.0, 2.5, nan, nan, nan, nan, nan, 2.5, nan, nan, 4.0, nan, nan, nan, 4.0, nan, nan, nan, nan, nan, nan, 2.5, 3.5, nan, 3.0, nan, 2.5, 4.0, nan, 3.0, nan, nan, nan, nan, 1.5, 3.5, 1.5, nan, 2.5, nan, nan, 3.0, nan, 2.5, nan, nan, nan, nan, nan, 3.0, nan, nan, 2.5, 2.5, 4.0, nan, 3.0, nan, nan, 0.5, 2.0, nan, 3.0, 3.5, 3.5, nan, nan, nan, 3.0, nan, nan, 3.5, 3.0, 0.5, 4.0, nan, nan, 2.5, nan, nan, nan, nan, nan, 2.5, nan, nan, nan, 2.0, 3.5, 2.5, 4.0, 3.5, 3.0, nan, nan, 2.0, nan, nan, nan, nan, nan, 3.5, nan, nan, 3.0, nan, nan, 4.0, nan, nan, nan, nan, 4.0, nan, 2.0, nan, nan, nan, nan, nan, nan, 3.0, 3.5, nan, nan, nan, 2.5, 2.0, nan, 4.0, nan, 3.0, 3.5, 2.0, nan, 2.5, 3.0, nan, nan, 3.5, nan, nan, 3.5, 1.0, nan, nan, nan, nan, nan, nan, 2.5, nan, nan, 4.0, nan, 3.0, nan, 3.5, nan, nan, 4.0, 2.5, nan, nan, 3.0, nan, 1.5, nan, nan, 3.0, nan, nan, nan, 3.0, nan, 2.0, nan, nan, 2.0, nan, nan, nan, nan, nan, 4.0, nan, nan, 3.5, 3.0, 3.0, 3.0, nan, nan, 4.0, nan, 3.0, nan, 2.0, nan, nan, 4.0, nan, nan, nan, nan, nan, 2.5, nan, nan, 3.5, nan, 4.0, nan, nan, 2.5, nan, nan, 3.0, nan, nan, nan, nan, 3.5, nan, 3.0, 4.0, nan, nan, nan, nan, nan, nan, nan, 3.0, 3.0, nan, 0.5, nan, 3.5, 3.5, nan, 4.0, 3.0, nan, 2.5, 3.0, 2.5, nan, nan, 3.0, nan, nan, nan, nan, 3.0, 3.5, 1.5, 1.5, nan, 3.5, 1.5, 4.0, nan, 3.0, nan, 3.5, nan, 2.5, nan, nan, nan, nan, 1.5, nan, nan, nan, nan, nan, 3.5, nan, nan, 3.0, 4.0, nan, nan, 3.5, nan, nan, nan, nan, nan, nan, nan, nan, 3.5, nan, nan, nan, nan, nan, nan, 3.0, nan, nan, nan, 3.5, nan, 0.5, 3.0, 3.5, nan, nan, 4.0, nan, nan, 3.0, nan, 4.0, 1.0, 3.5, nan, nan, nan, nan, 3.0, nan, nan, nan, nan, 2.0, 3.5, 2.5, nan, nan, nan, nan, nan, nan, nan, nan, nan, 1.5, nan, nan, nan, nan, nan, nan, nan, nan, nan, nan, nan, 3.0, nan, nan, nan, 3.0, nan, 1.0, nan, nan, nan, nan, nan, nan, nan, nan, 4.0, nan, nan, nan, nan, nan, nan, nan, nan, nan, nan, 4.0, nan, nan, 3.0, nan, nan, nan, nan, nan, 2.5, 3.0, 0.5, nan, nan, nan, nan, nan, nan, 2.0, 3.0, nan, 1.0, nan, 1.5, nan, nan, nan, 4.0, nan, nan, nan, nan, nan, 4.0, nan, nan, nan, 4.0, nan, nan, 0.5, nan, 3.0, nan, nan, nan, nan, nan, nan, nan, 1.0, 2.5, nan, nan, 3.5, 3.0, nan, 2.5, 1.0, 2.0, 4.0, nan, 3.5, nan, nan, nan, nan, nan, 4.0, nan, 4.0, nan, nan, 2.5, nan, nan, nan, 1.0, nan, nan, nan, nan, nan, 4.0, 1.5, nan, 3.0, nan, nan, 0.0, nan, nan, 4.0, nan, 3.5, 3.0, nan, nan, nan, 3.0, 2.0, nan, 4.0, nan, 2.5, nan, 2.5, nan, nan, nan, nan, 3.0, 3.0, nan, 3.5, nan, 3.0, 2.5, nan, nan, 4.0, nan, 4.0, nan, nan, nan, nan, 4.0, nan, nan, nan, nan, nan, 4.0, nan, 3.5, nan, nan, 3.5, nan, 2.0, nan, nan, 3.0, nan, nan, nan, nan, 4.0, nan, nan, nan, 1.5, nan, 2.0, nan, nan, 3.0, 3.0, nan, 2.0, nan, nan, nan, nan, nan, 3.0, 3.5, nan, nan, 4.0, 1.5, 3.0, 3.0, 2.0, nan, 4.0, 4.0, nan, 2.5, nan, 4.0, nan, 3.5, nan, 2.5, nan, nan, nan, nan, nan, nan, nan, nan, nan, nan, nan, nan, nan, nan, nan, 2.0, 2.5, nan, nan, nan, nan, nan, nan, nan, 1.5, 3.0, nan, 2.0, nan, nan, nan, 3.0, 2.0, 4.0, 3.0, 2.0, nan, nan, nan, nan, nan, nan, nan, nan, nan, 3.0, 1.0, 4.0, 2.0, 2.0, nan, nan, nan, nan, nan, nan, nan, 3.5, nan, 2.0, nan, nan, nan, nan, nan, nan, nan, nan, nan, 3.0, nan, nan, 3.5, 3.0, nan, nan, 3.5, nan, nan, nan, 0.0, nan, 2.5, 4.0, nan, 3.0, nan, nan, 3.5, nan, 1.0, nan, nan, 3.0, nan, nan, nan, nan, nan, nan, nan, nan, 3.0, nan, nan, nan, nan, 3.0, nan, 2.5, 2.0, nan, nan, 3.5, nan, 3.0, nan, nan, 2.5, nan, nan, nan, 2.5, nan, nan, nan, nan, nan, 3.5, nan, nan, nan, 0.5, nan, nan, nan, nan, nan, 2.0, nan, nan, 2.0, nan, nan, nan, 3.0, 4.0, nan, 2.5, nan, nan, nan, nan, nan, nan, nan, nan, nan, nan, nan, nan, nan, 0.0, nan, 3.0, nan, nan, nan, nan, nan, nan, 4.0, nan, 3.0, 2.5, 1.5, nan, nan, 3.5, nan, 3.5, nan, nan, nan, nan, nan, nan, nan, 4.0, nan, 2.5, 3.5, nan, nan, nan, nan, 1.5, nan, nan, 4.0, nan, 3.5, nan, nan, nan, nan, 3.5, 3.0, nan, nan, 3.0, 3.5, nan, nan, nan, 2.0, 3.0, 4.0, 4.0, nan, nan, nan, 2.0, nan, 1.5, 1.5, 4.0, nan, 2.0, nan, nan, nan, nan, nan, 3.0, 2.0, nan, nan, 2.0, 3.0, nan, nan, nan, 3.0, nan, 3.5, 3.0, nan, 3.0, 2.0, 3.5, 3.5, nan, nan, nan, 4.0, nan, nan, nan, 2.5, nan, 3.0, nan, nan, 1.5, 3.0, nan, nan, 1.5, 2.0, nan, nan, nan, nan, nan, nan, nan, nan, nan, nan, nan, 1.0, 2.0, nan, 1.5, nan, nan, nan, nan, nan, nan, nan, 2.5, nan, 1.5, 4.0, nan, 3.5, 2.0, 3.0, nan, nan, nan, 3.0, nan, nan, nan, 1.5, nan, nan, nan, nan, nan, nan, 3.0, 4.0, 2.5, nan, nan, nan, nan, 4.0, 4.0, 4.0, 3.5, nan, nan, 2.0, 3.5, nan, 1.5, nan, nan, 3.5, 2.5, nan, nan, nan, 4.0, nan, 4.0, 2.5, nan, nan, nan, nan, nan, nan, nan, 4.0, nan, 2.0, 2.5, nan, nan, nan, 3.5, nan, nan, 1.5, 2.0, 3.5, nan, nan, nan, nan, 3.0, 4.0, nan, nan, nan, nan, nan, nan, nan, nan, nan, nan, nan, 2.0, nan, nan, nan, 2.5, nan, nan, nan, 3.5, 2.5, nan, nan, nan, 2.0, nan, nan, nan, nan, nan, nan, 3.5, nan, nan, nan, nan, nan, 2.0, nan, nan, nan, 4.0, nan, 3.5, nan, nan, nan, 3.0, nan, nan, nan, nan, 2.5, nan, nan, nan, nan, nan, nan, 3.5, 3.0, nan, 3.0], [2.0, nan, nan, 3.0, 2.5, 3.5, nan, 3.5, 3.5, 4.0, nan, 4.0, nan, 2.5, 4.0, 4.0, 2.5, nan, 4.0, 3.5, nan, 2.5, 4.0, nan, 4.0, 1.5, nan, 3.5, 3.5, 3.5, nan, 4.0, nan, 4.0, nan, 4.0, 4.0, nan, nan, nan, nan, 3.5, nan, 3.0, nan, 4.0, 3.5, nan, 4.0, 3.5, nan, 3.0, nan, nan, nan, nan, 0.0, nan, 3.5, 4.0, 3.0, 4.0, 4.0, nan, nan, 4.0, 3.0, 3.0, 3.5, 4.0, 4.0, 4.0, nan, nan, 4.0, 1.0, 3.0, 4.0, 4.0, 1.5, 4.0, 4.0, nan, 4.0, 4.0, nan, 4.0, 4.0, 3.5, 4.0, 3.0, 3.0, 3.0, 3.5, 3.0, 4.0, nan, 4.0, nan, nan, nan, 3.0, 1.0, nan, 3.5, nan, nan, 3.5, 2.0, nan, 2.0, 4.0, 4.0, nan, nan, 4.0, nan, 4.0, nan, 4.0, 4.0, nan, 2.0, 4.0, nan, 1.5, nan, nan, 3.5, 2.5, 3.5, 3.5, nan, nan, nan, 3.0, 3.5, 2.0, nan, nan, 3.5, nan, nan, nan, 3.5, 3.5, 4.0, 4.0, 3.0, nan, nan, nan, nan, 3.0, 2.0, 4.0, 4.0, 4.0, 0.5, 4.0, 4.0, 3.5, 4.0, 3.0, nan, 3.5, 1.0, nan, nan, 3.5, 4.0, 3.0, 3.0, 4.0, 4.0, nan, nan, 2.5, nan, 2.5, 3.0, nan, 4.0, nan, 4.0, 0.5, 3.0, 4.0, 3.0, 3.5, 4.0, nan, 4.0, 4.0, nan, 2.0, 3.5, nan, 3.5, nan, 2.5, 3.5, nan, nan, nan, 4.0, nan, nan, 4.0, nan, 3.5, 2.0, nan, 4.0, 4.0, 2.0, nan, nan, nan, 3.5, nan, nan, 4.0, 4.0, 4.0, nan, 2.0, nan, 3.5, 3.0, 4.0, 4.0, 3.0, 3.5, 3.5, nan, 1.0, 4.0, 3.5, nan, 3.5, nan, 2.5, nan, nan, nan, nan, nan, 2.5, nan, 3.5, 4.0, nan, nan, 3.0, 2.5, 4.0, 3.5, 3.5, 3.0, 2.5, 4.0, 3.5, 4.0, 4.0, nan, nan, 3.0, 4.0, 3.5, 3.0, nan, nan, nan, 1.5, 3.0, 4.0, 2.5, nan, 2.0, nan, nan, nan, 2.5, 3.5, 4.0, nan, 3.5, 3.5, 4.0, 2.0, 3.0, nan, nan, nan, nan, 3.0, 3.0, 2.5, nan, nan, 3.5, nan, 3.0, 0.5, nan, 2.0, 3.5, 4.0, nan, 3.5, 4.0, 4.0, 2.5, nan, nan, nan, nan, nan, 4.0, nan, nan, nan, nan, nan, nan, nan, 3.0, 3.5, 3.0, nan, nan, 2.5, nan, 2.0, 4.0, 4.0, 4.0, nan, 3.0, nan, 3.0, 4.0, 4.0, nan, nan, 3.5, 2.5, nan, nan, 3.0, nan, nan, nan, nan, 3.0, 3.5, 2.5, 3.5, 3.5, nan, 1.5, 3.0, 3.5, 4.0, nan, 4.0, 2.5, 1.0, nan, nan, nan, nan, nan, nan, 2.0, 3.0, 3.0, 2.0, nan, 4.0, nan, 3.0, 4.0, 4.0, nan, 3.5, 4.0, nan, 3.5, 3.5, 4.0, nan, nan, 3.0, 4.0, 3.5, 4.0, 3.0, 4.0, 4.0, nan, 3.5, 2.0, 4.0, 3.0, 3.0, nan, 4.0, 3.0, 3.0, 4.0, nan, 4.0, 4.0, 4.0, nan, 4.0, 4.0, 1.0, 4.0, 4.0, 4.0, nan, 3.0, 3.5, nan, 4.0, 3.5, 3.5, 4.0, 4.0, 2.5, nan, nan, 2.5, 4.0, nan, nan, nan, 3.5, 3.5, nan, 4.0, 1.0, nan, 3.5, 1.0, nan, nan, nan, 4.0, nan, 3.0, 3.5, nan, nan, 3.0, 3.0, 3.0, 4.0, nan, nan, nan, nan, nan, 4.0, 3.5, 2.5, 3.5, 3.5, nan, nan, 4.0, 3.5, nan, 2.0, nan, 2.0, nan, 4.0, 4.0, nan, nan, 2.5, nan, 4.0, 3.0, 1.5, 4.0, nan, 0.5, 1.0, 4.0, nan, nan, nan, 4.0, 2.5, 4.0, 3.5, 4.0, nan, 3.5, 3.0, 3.0, 3.5, 4.0, 2.5, 4.0, 3.0, 4.0, nan, 2.0, 2.5, nan, 4.0, 4.0, 2.0, 1.0, nan, nan, 2.5, nan, nan, 3.5, 4.0, 3.0, 3.5, 3.5, 3.5, nan, 3.5, nan, 4.0, 4.0, nan, 0.5, 4.0, 4.0, nan, nan, nan, nan, 3.5, nan, 3.0, 3.5, 3.0, 2.5, 3.0, nan, 4.0, 4.0, 4.0, nan, 3.0, 1.5, nan, nan, 4.0, 3.0, nan, 4.0, nan, 4.0, 4.0, 3.0, nan, 1.0, nan, nan, 2.5, nan, nan, 4.0, nan, 0.5, 2.5, 3.5, nan, 3.0, nan, nan, 2.5, nan, 4.0, 4.0, nan, 4.0, 3.5, 4.0, 2.0, 4.0, 4.0, 4.0, 3.0, 4.0, 3.5, nan, 4.0, 4.0, 4.0, 3.0, nan, nan, nan, 3.0, 4.0, 3.5, nan, nan, 4.0, 4.0, 1.0, 4.0, 4.0, 4.0, nan, 4.0, 3.0, nan, 3.5, 3.5, 2.5, nan, nan, 4.0, 3.5, 4.0, nan, 3.5, 1.0, 2.5, 4.0, 4.0, nan, 4.0, 3.0, nan, nan, 4.0, 4.0, nan, nan, 4.0, nan, nan, nan, nan, 4.0, 2.5, 4.0, 4.0, 4.0, 3.5, 4.0, 4.0, 4.0, 3.0, 3.0, 3.0, nan, 3.0, 4.0, 4.0, 2.0, 3.5, 4.0, nan, 4.0, nan, nan, 4.0, 3.0, nan, nan, 4.0, 4.0, 4.0, 3.5, 3.0, 2.5, 3.5, 3.0, 4.0, nan, nan, 4.0, 3.5, 4.0, 3.0, nan, 4.0, 4.0, 2.5, 3.0, 3.0, 3.0, nan, 4.0, nan, 4.0, 2.0, nan, 1.0, nan, nan, 4.0, nan, nan, 4.0, 2.0, 4.0, 3.0, 3.0, nan, nan, 3.5, nan, nan, 2.5, nan, 3.5, 3.5, 3.0, 3.0, 3.0, 3.0, 3.5, 4.0, 4.0, nan, 0.0, 1.5, 3.5, 4.0, 4.0, 3.0, 2.0, nan, 3.5, 3.0, 4.0, nan, nan, 0.0, nan, 3.0, nan, nan, 3.0, nan, 1.5, 4.0, 2.5, 4.0, 3.5, 3.5, 3.5, nan, nan, 2.5, 3.5, nan, 3.5, 3.5, nan, 3.5, 2.5, 2.5, 3.0, 4.0, 4.0, nan, 2.5, 2.0, nan, 3.5, 4.0, 4.0, 2.5, 3.0, 4.0, 2.0, 1.0, nan, 4.0, 3.5, 2.0, nan, nan, nan, 4.0, 4.0, 4.0, nan, 2.0, 1.0, nan, nan, nan, 4.0, 4.0, 0.5, 3.5, 3.5, 4.0, nan, nan, nan, 4.0, 3.0, 4.0, 4.0, 3.5, 2.5, 4.0, nan, 4.0, 0.5, nan, 3.5, 3.5, 4.0, nan, nan, nan, 0.0, 3.0, 3.0, nan, nan, nan, 3.0, 2.5, 2.0, 1.0, nan, 2.5, 4.0, 3.0, 4.0, nan, 3.5, 3.0, 3.5, 2.5, 3.0, 3.0, 3.0, 2.5, 3.0, 4.0, nan, nan, nan, 3.5, nan, 3.0, nan, 4.0, 4.0, 1.5, 3.5, 4.0, 2.5, 1.5, 3.0, 3.0, 3.5, nan, nan, 3.5, nan, 2.5, 4.0, 3.5, nan, 3.0, 3.5, 3.0, nan, 4.0, 4.0, 3.0, 2.5, nan, 1.5, 3.0, 3.5, 0.5, 4.0, 3.5, 2.5, nan, nan, nan, 4.0, nan, 3.0, 2.0, nan, nan, 1.5, nan, 3.5, 4.0, nan, 3.5, 3.5, 3.5, 2.0, 2.5, 4.0, nan, 4.0, 3.0, 3.0, 2.5, 3.5, 4.0, 2.0, nan, 3.5, 2.5, nan, nan, nan, 2.5, nan, 3.5, nan, nan, 4.0, 2.5, 3.0, nan, 4.0, 2.5, 4.0, 2.0, 4.0, 2.5, nan, 2.5, nan, 3.0, 2.0, 2.0, 2.0, 3.5, nan, 4.0, 4.0, 3.0, 4.0, nan, 3.5, nan, 2.5, 4.0, 1.0, 4.0, 3.5, 4.0, 4.0, nan, 2.0, 3.0, nan, nan, nan, nan, 4.0, 3.5, 4.0, nan, 3.5, 4.0, 2.0, 4.0, 2.5, nan, 2.5, 3.0, 3.0, 4.0, 3.0, nan, nan, nan, nan, 3.5, 4.0, nan, 3.5, 2.0, 2.5, 3.5, 3.0, 4.0, 1.5, nan, 4.0, nan, nan, 3.5, nan, nan, 3.5, 3.0, nan, nan, 4.0, 4.0, 2.5, 2.5, 1.0, nan, nan, 4.0, 4.0, 2.5, 3.0, 2.0, nan, 3.5, 4.0, 4.0, nan, 2.0, 2.5, 4.0, 2.5, 4.0, nan, 2.5, 2.0, 4.0, 2.5, 4.0, 3.0, nan, 4.0, 4.0, nan, 3.0, 3.0, 4.0, 1.5, nan, nan, 1.0, 4.0, nan, 3.5, 4.0, 3.5, nan, 4.0, nan, 4.0, nan, 3.5, 3.5, 3.5, nan, 2.0, 3.0, nan, 4.0, 3.0, 3.0, 4.0, 4.0, 2.0, 4.0, 4.0, 3.0, nan, 4.0, nan, nan, 3.5, 3.0, 4.0, 2.5, 3.5, nan, 4.0, 4.0, nan, 4.0, 3.5, nan, 3.0]]\n",
      "KruskalResult(statistic=190.53496872634642, pvalue=4.2252969509030006e-42)\n"
     ]
    }
   ],
   "source": [
    "\n",
    "for series in franchise[7:8]:\n",
    "    df_buf = df.loc[:,series]\n",
    "    df_buf = df_buf.to_numpy()\n",
    "    temp = []\n",
    "    for i in range(0,len(df_buf[0])):\n",
    "        temp.append(list(df_buf[:,i]))\n",
    "    print(temp)\n",
    "    print(stats.kruskal(temp[0],temp[1],temp[2],nan_policy = \"omit\"))"
   ],
   "metadata": {
    "collapsed": false,
    "pycharm": {
     "name": "#%%\n"
    }
   }
  },
  {
   "cell_type": "code",
   "execution_count": 11,
   "outputs": [
    {
     "name": "stdout",
     "output_type": "stream",
     "text": [
      "[[ 6.04917350e+01  3.66205344e-15]\n",
      " [-6.04917350e+01  3.66205344e-15]]\n"
     ]
    }
   ],
   "source": [
    "import numpy as np\n",
    "from sklearn.decomposition import PCA\n",
    "X1 = np.array([[-71, -1, 5,21], [20, 1,81,-3]])\n",
    "pca = PCA(n_components=2)\n",
    "X1 = pca.fit_transform(X1)\n",
    "print(X1)"
   ],
   "metadata": {
    "collapsed": false,
    "pycharm": {
     "name": "#%%\n"
    }
   }
  }
 ],
 "metadata": {
  "kernelspec": {
   "display_name": "Python 3",
   "language": "python",
   "name": "python3"
  },
  "language_info": {
   "codemirror_mode": {
    "name": "ipython",
    "version": 2
   },
   "file_extension": ".py",
   "mimetype": "text/x-python",
   "name": "python",
   "nbconvert_exporter": "python",
   "pygments_lexer": "ipython2",
   "version": "2.7.6"
  }
 },
 "nbformat": 4,
 "nbformat_minor": 0
}